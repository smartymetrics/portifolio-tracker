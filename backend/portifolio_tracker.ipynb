{
 "cells": [
  {
   "cell_type": "markdown",
   "id": "eaabc42a",
   "metadata": {},
   "source": [
    "### Import important libraries"
   ]
  },
  {
   "cell_type": "code",
   "execution_count": 168,
   "id": "4528a8b2",
   "metadata": {},
   "outputs": [],
   "source": [
    "import os\n",
    "from dotenv import load_dotenv\n",
    "from typing import Dict, List\n",
    "import time\n",
    "import asyncio\n",
    "import aiohttp\n",
    "from web3 import Web3\n",
    "import joblib\n",
    "import requests\n",
    "from web3.exceptions import InvalidAddress\n",
    "import logging\n"
   ]
  },
  {
   "cell_type": "markdown",
   "id": "d15a0df9",
   "metadata": {},
   "source": [
    "### # Configure basic logging to provide informative output and error messages."
   ]
  },
  {
   "cell_type": "code",
   "execution_count": 169,
   "id": "d2801ac4",
   "metadata": {},
   "outputs": [],
   "source": [
    "logging.basicConfig(level=logging.INFO)\n",
    "logger = logging.getLogger(__name__)"
   ]
  },
  {
   "cell_type": "markdown",
   "id": "08d4bfe4",
   "metadata": {},
   "source": [
    "### # Load environment variables from a .env file for API keys and sensitive data."
   ]
  },
  {
   "cell_type": "code",
   "execution_count": 170,
   "id": "e2c96cc7",
   "metadata": {},
   "outputs": [],
   "source": [
    "load_dotenv()\n",
    "\n",
    "# Define and validate environment variables for API endpoints.\n",
    "WEB3_PROVIDER_URL = os.getenv(\"WEB3_PROVIDER_URL\")\n",
    "COINGECKO_API_KEY = os.getenv(\"COINGECKO_API_KEY\")\n",
    "\n",
    "if not WEB3_PROVIDER_URL:\n",
    "    logger.error(\"WEB3_PROVIDER_URL not set in .env file\")\n",
    "    exit(1)\n",
    "if not COINGECKO_API_KEY:\n",
    "    logger.error(\"COINGECKO_API_KEY not set in .env file\")\n",
    "    exit(1)\n"
   ]
  },
  {
   "cell_type": "markdown",
   "id": "2f103948",
   "metadata": {},
   "source": [
    "### # Establish a connection to the Ethereum network using the Web3 provider URL."
   ]
  },
  {
   "cell_type": "code",
   "execution_count": 171,
   "id": "91aad8b1",
   "metadata": {},
   "outputs": [
    {
     "name": "stderr",
     "output_type": "stream",
     "text": [
      "INFO:__main__:Connected to Ethereum network.\n"
     ]
    }
   ],
   "source": [
    "w3 = Web3(Web3.HTTPProvider(WEB3_PROVIDER_URL))\n",
    "\n",
    "if w3.is_connected():\n",
    "    logger.info(\"Connected to Ethereum network.\")\n",
    "else:\n",
    "    logger.error(\"Connection to Ethereum network failed.\")\n",
    "    exit(1)\n"
   ]
  },
  {
   "cell_type": "markdown",
   "id": "423fd4b7",
   "metadata": {},
   "source": [
    "### --- Constants and Configuration ---\n",
    " ERC-20 ABI: A minimal contract ABI to interact with ERC-20 tokens.\n",
    " It includes functions to get balance, decimals, symbol, and name."
   ]
  },
  {
   "cell_type": "code",
   "execution_count": 172,
   "id": "87c35e13",
   "metadata": {},
   "outputs": [],
   "source": [
    "ERC20_ABI = [\n",
    "    {\"constant\": True, \"inputs\": [{\"name\": \"_owner\", \"type\": \"address\"}], \"name\": \"balanceOf\", \"outputs\": [{\"name\": \"balance\", \"type\": \"uint256\"}], \"type\": \"function\"},\n",
    "    {\"constant\": True, \"inputs\": [], \"name\": \"decimals\", \"outputs\": [{\"name\": \"\", \"type\": \"uint8\"}], \"type\": \"function\"},\n",
    "    {\"constant\": True, \"inputs\": [], \"name\": \"symbol\", \"outputs\": [{\"name\": \"\", \"type\": \"string\"}], \"type\": \"function\"},\n",
    "    {\"constant\": True, \"inputs\": [], \"name\": \"name\", \"outputs\": [{\"name\": \"\", \"type\": \"string\"}], \"type\": \"function\"}\n",
    "]\n"
   ]
  },
  {
   "cell_type": "markdown",
   "id": "c0d68508",
   "metadata": {},
   "source": [
    "### # Cache settings for storing token price data locally to reduce API calls."
   ]
  },
  {
   "cell_type": "code",
   "execution_count": 173,
   "id": "7468bc43",
   "metadata": {},
   "outputs": [],
   "source": [
    "DATABASE_FOLDER = 'database'\n",
    "TOKEN_DATABASE_CACHE = os.path.join(DATABASE_FOLDER, 'defillama_token_database.joblib')\n",
    "CACHE_EXPIRATION_TIME = 30 * 60  # Cache entries expire after 30 minutes.\n",
    "MAX_TOKEN_PRICE = 200000.0  # Set a max price to filter out potentially erroneous data.\n"
   ]
  },
  {
   "cell_type": "markdown",
   "id": "b1792749",
   "metadata": {},
   "source": [
    "### # --- Helper Functions ---"
   ]
  },
  {
   "cell_type": "markdown",
   "id": "10aa9c7d",
   "metadata": {},
   "source": [
    "#### Check API keys"
   ]
  },
  {
   "cell_type": "code",
   "execution_count": 174,
   "id": "332be288",
   "metadata": {},
   "outputs": [],
   "source": [
    "def check_api_keys() -> Dict[str, bool]:\n",
    "    \"\"\"Check if API keys are loaded successfully and return a status dictionary.\"\"\"\n",
    "    return {\"web3\": w3.is_connected(), \"coingecko\": bool(COINGECKO_API_KEY)}\n"
   ]
  },
  {
   "cell_type": "markdown",
   "id": "4546f713",
   "metadata": {},
   "source": [
    "#### Validate ethereum address is valid"
   ]
  },
  {
   "cell_type": "code",
   "execution_count": 175,
   "id": "0bedb4db",
   "metadata": {},
   "outputs": [],
   "source": [
    "def validate_ethereum_address(address: str) -> bool:\n",
    "    \"\"\"Validate if a given string is a valid Ethereum address.\"\"\"\n",
    "    try:\n",
    "        return w3.is_address(address)\n",
    "    except InvalidAddress:\n",
    "        return False\n",
    "    except Exception as e:\n",
    "        logger.error(f\"Error validating address {address}: {e}\")\n",
    "        return False\n"
   ]
  },
  {
   "cell_type": "markdown",
   "id": "d24e57b5",
   "metadata": {},
   "source": [
    "#### Get eth balance"
   ]
  },
  {
   "cell_type": "code",
   "execution_count": 176,
   "id": "63118dfd",
   "metadata": {},
   "outputs": [],
   "source": [
    "def get_eth_balance(wallet_address: str, w3: Web3) -> float:\n",
    "    \"\"\"Retrieve the native ETH balance of a wallet address.\"\"\"\n",
    "    try:\n",
    "        if not validate_ethereum_address(wallet_address):\n",
    "            logger.error(f\"Invalid ETH address provided: {wallet_address}\")\n",
    "            return 0.0\n",
    "        # Get balance in Wei and convert to Ether.\n",
    "        balance_wei = w3.eth.get_balance(w3.to_checksum_address(wallet_address))\n",
    "        return float(w3.from_wei(balance_wei, 'ether'))\n",
    "    except Exception as e:\n",
    "        logger.error(f\"Error getting ETH balance for {wallet_address}: {e}\")\n",
    "        return 0.0\n"
   ]
  },
  {
   "cell_type": "markdown",
   "id": "1cdb52c2",
   "metadata": {},
   "source": [
    "#### Get token details like symbol, decimals and balance"
   ]
  },
  {
   "cell_type": "code",
   "execution_count": 177,
   "id": "67bd7a32",
   "metadata": {},
   "outputs": [],
   "source": [
    "def get_token_info_and_balance(wallet_address: str, contract_address: str, w3: Web3) -> Dict:\n",
    "    \"\"\"Fetch ERC-20 token info (name, symbol, decimals) and balance for a wallet.\"\"\"\n",
    "    try:\n",
    "        if not validate_ethereum_address(wallet_address) or not validate_ethereum_address(contract_address):\n",
    "            return {\"address\": contract_address, \"symbol\": \"Invalid\", \"name\": \"Invalid\", \"balance\": 0.0, \"decimals\": 18}\n",
    "\n",
    "        # Create a contract instance with its address and ABI.\n",
    "        token_contract = w3.eth.contract(address=w3.to_checksum_address(contract_address), abi=ERC20_ABI)\n",
    "        balance_wei = token_contract.functions.balanceOf(w3.to_checksum_address(wallet_address)).call()\n",
    "        decimals = token_contract.functions.decimals().call()\n",
    "        symbol = token_contract.functions.symbol().call()\n",
    "\n",
    "        try:\n",
    "            name = token_contract.functions.name().call()\n",
    "        except:\n",
    "            name = symbol\n",
    "\n",
    "        # Convert the balance from its smallest unit (Wei-like) to a readable float.\n",
    "        balance = balance_wei / (10 ** decimals)\n",
    "\n",
    "        return {\n",
    "            \"address\": contract_address.lower(),\n",
    "            \"symbol\": symbol,\n",
    "            \"name\": name,\n",
    "            \"balance\": float(balance),\n",
    "            \"decimals\": decimals\n",
    "        }\n",
    "    except Exception as e:\n",
    "        logger.error(f\"Error getting token info for {contract_address}: {e}\")\n",
    "        return {\"address\": contract_address.lower(), \"symbol\": \"Unknown\", \"name\": \"Unknown Token\", \"balance\": 0.0, \"decimals\": 18}\n"
   ]
  },
  {
   "cell_type": "markdown",
   "id": "447824ee",
   "metadata": {},
   "source": [
    "#### Get eth current price"
   ]
  },
  {
   "cell_type": "code",
   "execution_count": 178,
   "id": "b980621d",
   "metadata": {},
   "outputs": [],
   "source": [
    "def get_eth_price_sync() -> Dict:\n",
    "    \"\"\"Synchronously get the current price of Ethereum from the CoinGecko Pro API.\"\"\"\n",
    "    try:\n",
    "        url = \"https://pro-api.coingecko.com/api/v3/simple/price\"\n",
    "        params = {\n",
    "            \"ids\": \"ethereum\",\n",
    "            \"vs_currencies\": \"usd\",\n",
    "            \"include_24hr_change\": \"true\",\n",
    "            \"x_cg_pro_api_key\": COINGECKO_API_KEY\n",
    "        }\n",
    "        response = requests.get(url, params=params, timeout=10)\n",
    "        response.raise_for_status()\n",
    "        data = response.json()\n",
    "        eth_data = data.get(\"ethereum\", {})\n",
    "        return {\n",
    "            \"price\": eth_data.get(\"usd\", 0.0),\n",
    "            \"change_24h\": eth_data.get(\"usd_24h_change\", 0.0)\n",
    "        }\n",
    "    except Exception as e:\n",
    "        logger.error(f\"Error getting ETH price: {e}\")\n",
    "        return {\"price\": 0.0, \"change_24h\": 0.0}\n"
   ]
  },
  {
   "cell_type": "markdown",
   "id": "cc140f86",
   "metadata": {},
   "source": [
    "#### Get list of tokens on coingecko and function to check if a certain token held is valid on coingecko"
   ]
  },
  {
   "cell_type": "code",
   "execution_count": 179,
   "id": "b93715b2",
   "metadata": {},
   "outputs": [],
   "source": [
    "def get_coingecko_token_list() -> List[Dict]:\n",
    "    \"\"\"Fetch a list of all supported tokens from CoinGecko to validate contract addresses.\"\"\"\n",
    "    try:\n",
    "        url = \"https://pro-api.coingecko.com/api/v3/coins/list?include_platform=true\"\n",
    "        params = {\"x_cg_pro-api-key\": COINGECKO_API_KEY}\n",
    "        response = requests.get(url, params=params, timeout=10)\n",
    "        response.raise_for_status()\n",
    "        return response.json()\n",
    "    except Exception as e:\n",
    "        logger.error(f\"Error fetching CoinGecko token list: {e}\")\n",
    "        return []\n",
    "\n",
    "def is_token_supported(contract_address: str, token_list: List[Dict]) -> bool:\n",
    "    \"\"\"Check if a specific contract address exists in the CoinGecko token list.\"\"\"\n",
    "    for token in token_list:\n",
    "        if token.get(\"platforms\", {}).get(\"ethereum\", \"\").lower() == contract_address.lower():\n",
    "            return True\n",
    "    return False"
   ]
  },
  {
   "cell_type": "markdown",
   "id": "6d20afb3",
   "metadata": {},
   "source": [
    "### Asynchronous functions\n",
    "\n",
    "Used to get data from onchain, it runs functions in parallel waiting for when value would be gotten"
   ]
  },
  {
   "cell_type": "markdown",
   "id": "d306be72",
   "metadata": {},
   "source": [
    "#### Get tokens helds by wallet"
   ]
  },
  {
   "cell_type": "code",
   "execution_count": 180,
   "id": "a5b7b930",
   "metadata": {},
   "outputs": [],
   "source": [
    "async def get_held_tokens_alchemy(wallet_address: str, session: aiohttp.ClientSession) -> List[str]:\n",
    "    \"\"\"Asynchronously fetch all ERC-20 token addresses with non-zero balances for a wallet using Alchemy's API.\"\"\"\n",
    "    if not validate_ethereum_address(wallet_address):\n",
    "        logger.error(f\"Invalid wallet address provided to Alchemy function.\")\n",
    "        return []\n",
    "    headers = {\"accept\": \"application/json\", \"content-type\": \"application/json\"}\n",
    "    payload = {\n",
    "        \"id\": 1, \"jsonrpc\": \"2.0\", \"method\": \"alchemy_getTokenBalances\", \"params\": [w3.to_checksum_address(wallet_address), \"erc20\"]\n",
    "    }\n",
    "    try:\n",
    "        async with session.post(WEB3_PROVIDER_URL, headers=headers, json=payload, timeout=20) as response:\n",
    "            response.raise_for_status()\n",
    "            data = await response.json()\n",
    "            token_addresses = []\n",
    "            if \"result\" in data and \"tokenBalances\" in data[\"result\"]:\n",
    "                for token_info in data[\"result\"][\"tokenBalances\"]:\n",
    "                    if token_info[\"tokenBalance\"] != \"0x0\":\n",
    "                        token_addresses.append(token_info[\"contractAddress\"].lower())\n",
    "            logger.info(f\"Found {len(token_addresses)} tokens with non-zero balances.\")\n",
    "            return token_addresses\n",
    "    except Exception as e:\n",
    "        logger.error(f\"Error getting held tokens from Alchemy: {e}\")\n",
    "        return []\n"
   ]
  },
  {
   "cell_type": "markdown",
   "id": "2b77ddfc",
   "metadata": {},
   "source": [
    "#### Get token held prices from coingecko"
   ]
  },
  {
   "cell_type": "code",
   "execution_count": 181,
   "id": "f0e60575",
   "metadata": {},
   "outputs": [],
   "source": [
    "async def fetch_token_prices(session: aiohttp.ClientSession, tokens: List[str]) -> Dict:\n",
    "    \"\"\"Asynchronously fetch prices for a list of tokens from CoinGecko Pro API, with rate limiting and retry logic.\"\"\"\n",
    "    if not tokens:\n",
    "        return {}\n",
    "\n",
    "    all_prices = {}\n",
    "    headers = {\"accept\": \"application/json\", \"x-cg-pro-api-key\": COINGECKO_API_KEY}\n",
    "    token_list = get_coingecko_token_list()\n",
    "    valid_tokens = []\n",
    "    unsupported_tokens = []\n",
    "\n",
    "    # Filter for valid and supported tokens to avoid unnecessary API calls.\n",
    "    for token in tokens:\n",
    "        if token and isinstance(token, str) and validate_ethereum_address(token):\n",
    "            if is_token_supported(token, token_list):\n",
    "                valid_tokens.append(token)\n",
    "            else:\n",
    "                unsupported_tokens.append(token)\n",
    "        else:\n",
    "            logger.warning(f\"Invalid token address skipped: {token}\")\n",
    "\n",
    "    logger.info(f\"Valid tokens: {len(valid_tokens)}, Unsupported tokens: {len(unsupported_tokens)}\")\n",
    "\n",
    "    # Fetch prices in chunks to respect API limits.\n",
    "    chunk_size = 20\n",
    "    for i in range(0, len(valid_tokens), chunk_size):\n",
    "        chunk = valid_tokens[i:i + chunk_size]\n",
    "        contract_addresses_str = ','.join(chunk)\n",
    "        url = f\"https://pro-api.coingecko.com/api/v3/simple/token_price/ethereum?contract_addresses={contract_addresses_str}&vs_currencies=usd\"\n",
    "\n",
    "        logger.debug(f\"Request URL: {url}\")\n",
    "\n",
    "        for attempt in range(3):\n",
    "            try:\n",
    "                async with session.get(url, headers=headers, timeout=15) as response:\n",
    "                    if response.status == 429:\n",
    "                        logger.warning(f\"Rate limited, waiting for {2 ** attempt} seconds...\")\n",
    "                        await asyncio.sleep(2 ** attempt)\n",
    "                        continue\n",
    "                    response.raise_for_status()\n",
    "                    data = await response.json()\n",
    "                    logger.debug(f\"API response data: {data}\")\n",
    "\n",
    "                    if not isinstance(data, dict):\n",
    "                        logger.error(\"Unexpected API response format.\")\n",
    "                        continue\n",
    "\n",
    "                    for contract, price_info in data.items():\n",
    "                        if contract and isinstance(contract, str):\n",
    "                            price = price_info.get(\"usd\", 0.0)\n",
    "                            if price > MAX_TOKEN_PRICE:\n",
    "                                logger.error(f\"Error: Token {contract} has invalid price of ${price:,.2f}, excluding from portfolio\")\n",
    "                                continue\n",
    "                            all_prices[contract.lower()] = {\n",
    "                                \"price\": price,\n",
    "                                \"change_24h\": 0.0 # Note: The simple/token_price endpoint does not provide 24h change, so this is hardcoded to 0.0.\n",
    "                            }\n",
    "                        else:\n",
    "                            logger.error(f\"Invalid contract address in response: {contract}\")\n",
    "                    break\n",
    "            except Exception as e:\n",
    "                logger.error(f\"Error fetching prices for chunk {chunk}: {e}, status: {response.status if 'response' in locals() else 'N/A'}\")\n",
    "                if attempt == 2:\n",
    "                    for contract in chunk:\n",
    "                        all_prices[contract.lower()] = {\"price\": 0.0, \"change_24h\": 0.0}\n",
    "\n",
    "        await asyncio.sleep(0.5)\n",
    "\n",
    "    # Handle tokens that were found but not supported by CoinGecko.\n",
    "    for token in unsupported_tokens:\n",
    "        all_prices[token.lower()] = {\"price\": 0.0, \"change_24h\": 0.0}\n",
    "        logger.warning(f\"Token {token} not supported by CoinGecko, setting price to $0.00\")\n",
    "\n",
    "    logger.info(f\"Fetched prices for {len(all_prices)} tokens.\")\n",
    "    return all_prices\n"
   ]
  },
  {
   "cell_type": "markdown",
   "id": "44f28929",
   "metadata": {},
   "source": [
    "#### Save token price to database\n"
   ]
  },
  {
   "cell_type": "code",
   "execution_count": 183,
   "id": "acc3d097",
   "metadata": {},
   "outputs": [],
   "source": [
    "def save_token_database(tokens: Dict):\n",
    "    \"\"\"Save the current token price dictionary to a file using joblib.\"\"\"\n",
    "    try:\n",
    "        joblib.dump(tokens, TOKEN_DATABASE_CACHE)\n",
    "        logger.info(f\"Saved {len(tokens)} tokens to database cache.\")\n",
    "    except Exception as e:\n",
    "        logger.error(f\"Failed to save token database cache: {e}\")\n"
   ]
  },
  {
   "cell_type": "markdown",
   "id": "cbcd9de7",
   "metadata": {},
   "source": [
    "#### Get token price from database file else create an empty file"
   ]
  },
  {
   "cell_type": "code",
   "execution_count": 185,
   "id": "930e70c0",
   "metadata": {},
   "outputs": [],
   "source": [
    "def load_or_create_token_database() -> Dict:\n",
    "    \"\"\"Load the token price cache from a file or create an empty dictionary if the file doesn't exist.\"\"\"\n",
    "    os.makedirs(DATABASE_FOLDER, exist_ok=True)\n",
    "    try:\n",
    "        tokens = joblib.load(TOKEN_DATABASE_CACHE)\n",
    "        logger.info(f\"Loaded {len(tokens)} tokens from database cache.\")\n",
    "        \n",
    "        # Clean expired entries from the cache.\n",
    "        cleaned_tokens = {}\n",
    "        current_time = time.time()\n",
    "        for addr, data in tokens.items():\n",
    "            if isinstance(data, dict) and \"price\" in data and \"timestamp\" in data:\n",
    "                if current_time - data[\"timestamp\"] <= CACHE_EXPIRATION_TIME:\n",
    "                    cleaned_tokens[addr] = data\n",
    "        if len(cleaned_tokens) < len(tokens):\n",
    "            logger.info(f\"Cleaned {len(tokens) - len(cleaned_tokens)} expired entries from cache.\")\n",
    "            save_token_database(cleaned_tokens) # Save the cleaned cache.\n",
    "        return cleaned_tokens\n",
    "    except FileNotFoundError:\n",
    "        logger.warning(\"Token database not found. Starting with an empty database.\")\n",
    "        return {}\n",
    "    except Exception as e:\n",
    "        logger.error(f\"Error loading token database: {e}. Starting with an empty database.\")\n",
    "        return {}\n"
   ]
  },
  {
   "cell_type": "markdown",
   "id": "3f463a95",
   "metadata": {},
   "source": [
    "### function to get the portifolio balance of a wallet"
   ]
  },
  {
   "cell_type": "code",
   "execution_count": 184,
   "id": "0aca4c09",
   "metadata": {},
   "outputs": [
    {
     "name": "stderr",
     "output_type": "stream",
     "text": [
      "INFO:__main__:Starting portfolio analysis...\n",
      "INFO:__main__:Analyzing portfolio for 0x0E6766293E15552Deed3Eaf8505f3640E29f4949\n",
      "WARNING:__main__:Token database not found. Starting with an empty database.\n",
      "INFO:__main__:Found 1 tokens with non-zero balances.\n",
      "INFO:__main__:Fetching prices for 1 tokens...\n",
      "ERROR:__main__:Error fetching CoinGecko token list: 401 Client Error: Unauthorized for url: https://pro-api.coingecko.com/api/v3/coins/list?include_platform=true&x_cg_pro-api-key=CG-nm5ynnbGBWTugQhVY2vNMWbP\n",
      "INFO:__main__:Valid tokens: 0, Unsupported tokens: 1\n",
      "WARNING:__main__:Token 0xc02aaa39b223fe8d0a0e5c4f27ead9083c756cc2 not supported by CoinGecko, setting price to $0.00\n",
      "INFO:__main__:Fetched prices for 1 tokens.\n",
      "INFO:__main__:Saved 1 tokens to database cache.\n",
      "INFO:__main__:Processing 1 tokens...\n",
      "INFO:__main__:Portfolio analysis complete. Total value: $0.00\n"
     ]
    },
    {
     "name": "stdout",
     "output_type": "stream",
     "text": [
      "\n",
      "==================================================\n",
      "Portfolio Summary for 0x0E6766293E15552Deed3Eaf8505f3640E29f4949\n",
      "==================================================\n",
      "ETH Balance: 0.0000 ETH\n",
      "ETH Price: $4,290.60 (+5.87%)\n",
      "ETH Value: $0.00\n",
      "Total Portfolio: $0.00\n",
      "Number of Tokens: 0\n",
      "\n",
      "Top 10 Token Holdings:\n",
      "--------------------------------------------------------------------------------\n",
      "Token                Balance         Price           Value        24h Change\n",
      "--------------------------------------------------------------------------------\n"
     ]
    }
   ],
   "source": [
    "async def get_portfolio_data(wallet_address: str) -> Dict:\n",
    "    \"\"\"Main function to get a full portfolio breakdown: ETH balance, token balances, and their values.\"\"\"\n",
    "    logger.info(f\"Analyzing portfolio for {wallet_address}\")\n",
    "\n",
    "    # Load the local token price cache.\n",
    "    token_database = load_or_create_token_database()\n",
    "\n",
    "    # Get ETH balance and its price.\n",
    "    eth_balance = get_eth_balance(wallet_address, w3)\n",
    "    eth_price_data = get_eth_price_sync()\n",
    "\n",
    "    # Initialize the portfolio dictionary.\n",
    "    portfolio = {\n",
    "        \"wallet_address\": wallet_address,\n",
    "        \"eth_balance\": eth_balance,\n",
    "        \"eth_price\": eth_price_data[\"price\"],\n",
    "        \"eth_change_24h\": eth_price_data[\"change_24h\"],\n",
    "        \"eth_value\": eth_balance * eth_price_data[\"price\"],\n",
    "        \"tokens\": [],\n",
    "        \"total_value\": eth_balance * eth_price_data[\"price\"],\n",
    "        \"last_updated\": time.strftime(\"%Y-%m-%d %H:%M:%S\")\n",
    "    }\n",
    "\n",
    "    # Fetch held tokens from Alchemy API.\n",
    "    async with aiohttp.ClientSession() as session:\n",
    "        held_token_addresses = await get_held_tokens_alchemy(wallet_address, session)\n",
    "\n",
    "        # Identify which token prices need to be fetched (not in cache or expired).\n",
    "        missing_tokens = []\n",
    "        for addr in held_token_addresses:\n",
    "            addr_lower = addr.lower()\n",
    "            if addr_lower not in token_database or (token_database[addr_lower].get(\"timestamp\", 0) < time.time() - CACHE_EXPIRATION_TIME):\n",
    "                missing_tokens.append(addr)\n",
    "            else:\n",
    "                logger.debug(f\"Using cached price for {addr_lower}: ${token_database[addr_lower]['price']:.8f}\")\n",
    "\n",
    "        # Fetch prices for missing tokens and update the cache.\n",
    "        if missing_tokens:\n",
    "            logger.info(f\"Fetching prices for {len(missing_tokens)} tokens...\")\n",
    "            new_prices = await fetch_token_prices(session, missing_tokens)\n",
    "            for addr, price_data in new_prices.items():\n",
    "                token_database[addr.lower()] = {\n",
    "                    \"price\": price_data[\"price\"],\n",
    "                    \"change_24h\": price_data[\"change_24h\"],\n",
    "                    \"timestamp\": time.time()\n",
    "                }\n",
    "            save_token_database(token_database)\n",
    "        else:\n",
    "            logger.info(\"All token prices are in the cache and up-to-date.\")\n",
    "\n",
    "        # Process all held tokens to get their details and calculate values.\n",
    "        if held_token_addresses:\n",
    "            logger.info(f\"Processing {len(held_token_addresses)} tokens...\")\n",
    "\n",
    "            # Run balance and info fetching concurrently using asyncio.to_thread for blocking calls.\n",
    "            token_info_tasks = [\n",
    "                asyncio.to_thread(get_token_info_and_balance, wallet_address, addr, w3)\n",
    "                for addr in held_token_addresses\n",
    "            ]\n",
    "\n",
    "            token_infos = await asyncio.gather(*token_info_tasks)\n",
    "\n",
    "            # Build the final portfolio data structure.\n",
    "            for token_info in token_infos:\n",
    "                if token_info[\"balance\"] > 0:\n",
    "                    addr_lower = token_info[\"address\"].lower()\n",
    "                    price_data = token_database.get(addr_lower, {\"price\": 0.0, \"change_24h\": 0.0, \"timestamp\": 0})\n",
    "\n",
    "                    token_info.update({\n",
    "                        \"price\": price_data[\"price\"],\n",
    "                        \"change_24h\": price_data[\"change_24h\"],\n",
    "                        \"value\": token_info[\"balance\"] * price_data[\"price\"]\n",
    "                    })\n",
    "\n",
    "                    portfolio[\"tokens\"].append(token_info)\n",
    "                    portfolio[\"total_value\"] += token_info[\"value\"]\n",
    "\n",
    "    # Sort tokens by value in descending order.\n",
    "    portfolio[\"tokens\"].sort(key=lambda x: x[\"value\"], reverse=True)\n",
    "\n",
    "    logger.info(f\"Portfolio analysis complete. Total value: ${portfolio['total_value']:,.2f}\")\n",
    "    return portfolio\n",
    "\n",
    "\n",
    "\n",
    "\n",
    "# --- Main Execution Block ---\n",
    "async def main():\n",
    "    \"\"\"Main function to run the portfolio tracker and print the results.\"\"\"\n",
    "    # Example wallet address to analyze.\n",
    "    wallet_address = \"0x0E6766293E15552Deed3Eaf8505f3640E29f4949\"\n",
    "\n",
    "    logger.info(\"Starting portfolio analysis...\")\n",
    "    if not validate_ethereum_address(wallet_address):\n",
    "        logger.error(\"Invalid Ethereum address provided.\")\n",
    "        return\n",
    "\n",
    "    # Call the main portfolio data function.\n",
    "    portfolio = await get_portfolio_data(wallet_address)\n",
    "\n",
    "    # Print the formatted portfolio summary.\n",
    "    print(\"\\n\" + \"=\"*50)\n",
    "    print(f\"Portfolio Summary for {portfolio['wallet_address']}\")\n",
    "    print(\"=\"*50)\n",
    "    print(f\"ETH Balance: {portfolio['eth_balance']:.4f} ETH\")\n",
    "    print(f\"ETH Price: ${portfolio['eth_price']:,.2f} ({portfolio['eth_change_24h']:+.2f}%)\")\n",
    "    print(f\"ETH Value: ${portfolio['eth_value']:,.2f}\")\n",
    "    print(f\"Total Portfolio: ${portfolio['total_value']:,.2f}\")\n",
    "    print(f\"Number of Tokens: {len(portfolio['tokens'])}\")\n",
    "\n",
    "    print(f\"\\nTop 10 Token Holdings:\")\n",
    "    print(\"-\" * 80)\n",
    "    print(f\"{'Token':<20} {'Balance':<15} {'Price':<15} {'Value':<12} {'24h Change':<10}\")\n",
    "    print(\"-\" * 80)\n",
    "\n",
    "    for token in portfolio['tokens'][:10]:\n",
    "        balance_str = f\"{token['balance']:.4f}\"\n",
    "        price_str = f\"${token['price']:,.8f}\" if token['price'] > 0 and token['price'] < 0.01 else f\"${token['price']:,.4f}\" if token['price'] > 0 else \"N/A\"\n",
    "        value_str = f\"${token['value']:,.2f}\"\n",
    "        change_str = f\"{token['change_24h']:+.2f}%\" if token['change_24h'] != 0 else \"N/A\"\n",
    "\n",
    "        print(f\"{token['symbol']:<20} {balance_str:<15} {price_str:<15} {value_str:<12} {change_str:<10}\")\n",
    "\n",
    "\n",
    "await main()"
   ]
  }
 ],
 "metadata": {
  "kernelspec": {
   "display_name": "crypto-portifolio-tracker",
   "language": "python",
   "name": "python3"
  },
  "language_info": {
   "codemirror_mode": {
    "name": "ipython",
    "version": 3
   },
   "file_extension": ".py",
   "mimetype": "text/x-python",
   "name": "python",
   "nbconvert_exporter": "python",
   "pygments_lexer": "ipython3",
   "version": "3.10.7"
  }
 },
 "nbformat": 4,
 "nbformat_minor": 5
}
