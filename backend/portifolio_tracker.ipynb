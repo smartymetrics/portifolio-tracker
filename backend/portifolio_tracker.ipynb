{
 "cells": [
  {
   "cell_type": "markdown",
   "id": "e8e8f77d",
   "metadata": {},
   "source": [
    "### import modules"
   ]
  },
  {
   "cell_type": "code",
   "execution_count": 27,
   "id": "feea88b9",
   "metadata": {},
   "outputs": [],
   "source": [
    "# --- Imports and Initial Setup ---\n",
    "import os\n",
    "from dotenv import load_dotenv\n",
    "from typing import Dict, List, Optional\n",
    "import time\n",
    "import asyncio\n",
    "import aiohttp\n",
    "from web3 import Web3\n",
    "import joblib\n",
    "import requests\n",
    "from web3.exceptions import InvalidAddress\n",
    "import logging\n",
    "import streamlit as st"
   ]
  },
  {
   "cell_type": "markdown",
   "id": "f701ba20",
   "metadata": {},
   "source": [
    "### Error logging"
   ]
  },
  {
   "cell_type": "code",
   "execution_count": 28,
   "id": "16818a48",
   "metadata": {},
   "outputs": [],
   "source": [
    "\n",
    "# Configure logging\n",
    "logging.basicConfig(level=logging.INFO)\n",
    "logger = logging.getLogger(__name__)"
   ]
  },
  {
   "cell_type": "markdown",
   "id": "f425c0e4",
   "metadata": {},
   "source": [
    "### Load environment variable"
   ]
  },
  {
   "cell_type": "code",
   "execution_count": 29,
   "id": "9bdf6822",
   "metadata": {},
   "outputs": [],
   "source": [
    "\n",
    "# Load .env file for local development\n",
    "load_dotenv()\n",
    "\n",
    "def get_secret(key):\n",
    "    \"\"\"\n",
    "    Universal secret getter that works:\n",
    "    - Locally with .env files\n",
    "    - Locally with Streamlit secrets\n",
    "    - On Streamlit Cloud with secrets\n",
    "    - With system environment variables\n",
    "    \"\"\"\n",
    "    # Method 1: Try Streamlit secrets\n",
    "    try:\n",
    "        return st.secrets[key]\n",
    "    except:\n",
    "        pass\n",
    "    \n",
    "    # Method 2: Try environment variables (from .env or system)\n",
    "    env_value = os.getenv(key)\n",
    "    if env_value:\n",
    "        return env_value\n",
    "    \n",
    "    # Method 3: Return None if not found\n",
    "    return None"
   ]
  },
  {
   "cell_type": "markdown",
   "id": "127eee37",
   "metadata": {},
   "source": [
    "### Set API"
   ]
  },
  {
   "cell_type": "code",
   "execution_count": 53,
   "id": "b93f7409",
   "metadata": {},
   "outputs": [],
   "source": [
    "# Usage\n",
    "WEB3_PROVIDER_URL = get_secret(\"WEB3_PROVIDER_URL\")\n",
    "COINGECKO_API_KEY = get_secret(\"COINGECKO_API_KEY\")\n",
    "ETHERSCAN_API_KEY = get_secret(\"ETHERSCAN_API_KEY\")\n",
    "\n",
    "# Validation\n",
    "if not WEB3_PROVIDER_URL:\n",
    "    st.error(\"Missing WEB3_PROVIDER_URL\")\n",
    "    st.stop()\n",
    "\n",
    "# CoinGecko is now optional (fallback only)\n",
    "if not COINGECKO_API_KEY:\n",
    "    st.warning(\"⚠️ COINGECKO_API_KEY not found. Using 1inch only for pricing.\")\n",
    "    logger.warning(\"No CoinGecko API key found, using 1inch as primary source\")\n"
   ]
  },
  {
   "cell_type": "markdown",
   "id": "feee51f6",
   "metadata": {},
   "source": [
    "### # --- Constants and Configuration ---"
   ]
  },
  {
   "cell_type": "code",
   "execution_count": 31,
   "id": "d674502e",
   "metadata": {},
   "outputs": [],
   "source": [
    "# ERC-20 ABI: A minimal contract ABI to interact with ERC-20 tokens.\n",
    "ERC20_ABI = [\n",
    "    {\"constant\": True, \"inputs\": [{\"name\": \"_owner\", \"type\": \"address\"}], \"name\": \"balanceOf\", \"outputs\": [{\"name\": \"balance\", \"type\": \"uint256\"}], \"type\": \"function\"},\n",
    "    {\"constant\": True, \"inputs\": [], \"name\": \"decimals\", \"outputs\": [{\"name\": \"\", \"type\": \"uint8\"}], \"type\": \"function\"},\n",
    "    {\"constant\": True, \"inputs\": [], \"name\": \"symbol\", \"outputs\": [{\"name\": \"\", \"type\": \"string\"}], \"type\": \"function\"},\n",
    "    {\"constant\": True, \"inputs\": [], \"name\": \"name\", \"outputs\": [{\"name\": \"\", \"type\": \"string\"}], \"type\": \"function\"}\n",
    "]\n",
    "\n",
    "# Database Cache settings\n",
    "DATABASE_FOLDER = 'database'\n",
    "TOKEN_DATABASE_CACHE = os.path.join(DATABASE_FOLDER, 'token_price_database.joblib')\n",
    "CACHE_EXPIRATION_TIME = 30 * 60  # 30 minutes\n",
    "MAX_TOKEN_PRICE = 200000.0\n",
    "\n",
    "# # Additional constants\n",
    "# WETH_ADDRESS = \"0xC02aaA39b223FE8D0A0e5C4F27eAD9083C756Cc2\"\n",
    "# USDC_ADDRESS = \"0xA0b86a33E6441bF98d4C9A2cb50F79aB2e8f4C24\""
   ]
  },
  {
   "cell_type": "markdown",
   "id": "c8325149",
   "metadata": {},
   "source": [
    "### Helper functions used to Connect to the blockchain"
   ]
  },
  {
   "cell_type": "code",
   "execution_count": 32,
   "id": "d2dc5384",
   "metadata": {},
   "outputs": [],
   "source": [
    "# Global Web3 instance \n",
    "w3: Optional[Web3] = None\n",
    "web3_initialized = False\n",
    "\n",
    "def initialize_web3_connection() -> bool:\n",
    "    \"\"\"Initialize Web3 connection lazily when needed.\"\"\"\n",
    "    global w3, web3_initialized\n",
    "    \n",
    "    if web3_initialized:\n",
    "        return w3 is not None\n",
    "    \n",
    "    try:\n",
    "        # Create Web3 instance with timeout\n",
    "        w3 = Web3(Web3.HTTPProvider(\n",
    "            WEB3_PROVIDER_URL,\n",
    "            request_kwargs={\n",
    "                'timeout': 20,\n",
    "                'headers': {\n",
    "                    'User-Agent': 'CryptoPortfolioTracker/1.0'\n",
    "                }\n",
    "            }\n",
    "        ))\n",
    "        \n",
    "        web3_initialized = True\n",
    "        logger.info(\"Web3 instance created successfully\")\n",
    "        return True\n",
    "        \n",
    "    except Exception as e:\n",
    "        logger.error(f\"Failed to initialize Web3: {e}\")\n",
    "        w3 = None\n",
    "        web3_initialized = True\n",
    "        return False\n",
    "\n",
    "def test_web3_connection() -> bool:\n",
    "    \"\"\"Test Web3 connection only when needed.\"\"\"\n",
    "    if not initialize_web3_connection():\n",
    "        return False\n",
    "    \n",
    "    try:\n",
    "        # Simple test - get latest block number\n",
    "        block_number = w3.eth.block_number\n",
    "        logger.info(f\"Web3 connected. Latest block: {block_number}\")\n",
    "        return True\n",
    "    except Exception as e:\n",
    "        logger.error(f\"Web3 connection test failed: {e}\")\n",
    "        return False\n"
   ]
  },
  {
   "cell_type": "code",
   "execution_count": 33,
   "id": "082fa3f0",
   "metadata": {},
   "outputs": [],
   "source": [
    "def check_api_keys() -> Dict[str, bool]:\n",
    "    \"\"\"Check API keys without initializing connections that might cause recursion.\"\"\"\n",
    "    return {\n",
    "        \"web3\": bool(WEB3_PROVIDER_URL),  # Just check if URL exists\n",
    "        \"coingecko\": bool(COINGECKO_API_KEY)\n",
    "    }\n",
    "\n",
    "def validate_ethereum_address(address: str) -> bool:\n",
    "    \"\"\"Validate if a given string is a valid Ethereum address.\"\"\"\n",
    "    if not address or not isinstance(address, str):\n",
    "        return False\n",
    "    \n",
    "    try:\n",
    "        # Use Web3's static method (doesn't need connection)\n",
    "        return Web3.is_address(address)\n",
    "    except Exception as e:\n",
    "        logger.error(f\"Error validating address {address}: {e}\")\n",
    "        return False\n"
   ]
  },
  {
   "cell_type": "code",
   "execution_count": 34,
   "id": "edbe0c67",
   "metadata": {},
   "outputs": [],
   "source": [
    "def get_eth_balance(wallet_address: str) -> float:\n",
    "    \"\"\"Retrieve the native ETH balance of a wallet address.\"\"\"\n",
    "    if not test_web3_connection():\n",
    "        logger.error(\"Web3 connection not available\")\n",
    "        return 0.0\n",
    "        \n",
    "    try:\n",
    "        if not validate_ethereum_address(wallet_address):\n",
    "            logger.error(f\"Invalid ETH address provided: {wallet_address}\")\n",
    "            return 0.0\n",
    "        \n",
    "        # Get balance in Wei and convert to Ether\n",
    "        balance_wei = w3.eth.get_balance(Web3.to_checksum_address(wallet_address))\n",
    "        return float(Web3.from_wei(balance_wei, 'ether'))\n",
    "        \n",
    "    except Exception as e:\n",
    "        logger.error(f\"Error getting ETH balance for {wallet_address}: {e}\")\n",
    "        return 0.0\n"
   ]
  },
  {
   "cell_type": "code",
   "execution_count": 35,
   "id": "ebbee199",
   "metadata": {},
   "outputs": [
    {
     "name": "stderr",
     "output_type": "stream",
     "text": [
      "INFO:__main__:Web3 instance created successfully\n",
      "INFO:__main__:Web3 connected. Latest block: 23117758\n"
     ]
    },
    {
     "data": {
      "text/plain": [
       "181774.35501503313"
      ]
     },
     "execution_count": 35,
     "metadata": {},
     "output_type": "execute_result"
    }
   ],
   "source": [
    "get_eth_balance(\"0xde0B295669a9FD93d5F28D9Ec85E40f4cb697BAe\")"
   ]
  },
  {
   "cell_type": "code",
   "execution_count": 36,
   "id": "5b4f537e",
   "metadata": {},
   "outputs": [],
   "source": [
    "def get_token_info_and_balance(wallet_address: str, contract_address: str) -> Dict:\n",
    "    \"\"\"Fetch ERC-20 token info and balance for a wallet.\"\"\"\n",
    "    if not test_web3_connection():\n",
    "        logger.error(\"Web3 connection not available\")\n",
    "        return {\"address\": contract_address, \"symbol\": \"Error\", \"name\": \"Web3 Not Connected\", \"balance\": 0.0, \"decimals\": 18}\n",
    "    \n",
    "    try:\n",
    "        if not validate_ethereum_address(wallet_address) or not validate_ethereum_address(contract_address):\n",
    "            return {\"address\": contract_address, \"symbol\": \"Invalid\", \"name\": \"Invalid Address\", \"balance\": 0.0, \"decimals\": 18}\n",
    "\n",
    "        # Create contract instance\n",
    "        token_contract = w3.eth.contract(\n",
    "            address=Web3.to_checksum_address(contract_address), \n",
    "            abi=ERC20_ABI\n",
    "        )\n",
    "        \n",
    "        # Get token information with individual try-catch blocks\n",
    "        balance_wei = 0\n",
    "        decimals = 18\n",
    "        symbol = \"Unknown\"\n",
    "        name = \"Unknown Token\"\n",
    "        \n",
    "        try:\n",
    "            balance_wei = token_contract.functions.balanceOf(Web3.to_checksum_address(wallet_address)).call()\n",
    "        except Exception as e:\n",
    "            logger.error(f\"Error getting balance for {contract_address}: {e}\")\n",
    "        \n",
    "        try:\n",
    "            decimals = token_contract.functions.decimals().call()\n",
    "        except Exception as e:\n",
    "            logger.error(f\"Error getting decimals for {contract_address}: {e}\")\n",
    "            \n",
    "        try:\n",
    "            symbol = token_contract.functions.symbol().call()\n",
    "        except Exception as e:\n",
    "            logger.error(f\"Error getting symbol for {contract_address}: {e}\")\n",
    "            \n",
    "        try:\n",
    "            name = token_contract.functions.name().call()\n",
    "        except Exception as e:\n",
    "            logger.error(f\"Error getting name for {contract_address}: {e}\")\n",
    "            name = symbol  # Fallback to symbol\n",
    "\n",
    "        # Convert balance from Wei-like units to readable float\n",
    "        balance = balance_wei / (10 ** decimals) if decimals > 0 else 0\n",
    "\n",
    "        return {\n",
    "            \"address\": contract_address.lower(),\n",
    "            \"symbol\": symbol,\n",
    "            \"name\": name,\n",
    "            \"balance\": float(balance),\n",
    "            \"decimals\": decimals\n",
    "        }\n",
    "        \n",
    "    except Exception as e:\n",
    "        logger.error(f\"Error getting token info for {contract_address}: {e}\")\n",
    "        return {\n",
    "            \"address\": contract_address.lower(), \n",
    "            \"symbol\": \"Error\", \n",
    "            \"name\": \"Token Read Error\", \n",
    "            \"balance\": 0.0, \n",
    "            \"decimals\": 18\n",
    "        }\n"
   ]
  },
  {
   "cell_type": "code",
   "execution_count": 37,
   "id": "a9f93274",
   "metadata": {},
   "outputs": [
    {
     "name": "stderr",
     "output_type": "stream",
     "text": [
      "INFO:__main__:Web3 connected. Latest block: 23117758\n"
     ]
    },
    {
     "data": {
      "text/plain": [
       "{'address': '0xc02aaa39b223fe8d0a0e5c4f27ead9083c756cc2',\n",
       " 'symbol': 'WETH',\n",
       " 'name': 'Wrapped Ether',\n",
       " 'balance': 214.1409680216,\n",
       " 'decimals': 18}"
      ]
     },
     "execution_count": 37,
     "metadata": {},
     "output_type": "execute_result"
    }
   ],
   "source": [
    "get_token_info_and_balance(\"0xde0B295669a9FD93d5F28D9Ec85E40f4cb697BAe\", \"0xC02aaA39b223FE8D0A0e5C4F27eAD9083C756Cc2\")"
   ]
  },
  {
   "cell_type": "code",
   "execution_count": 54,
   "id": "870f8a2c",
   "metadata": {},
   "outputs": [],
   "source": [
    "def get_eth_price() -> Dict:\n",
    "    # Check CoinGecko if available\n",
    "    if COINGECKO_API_KEY:\n",
    "        try:\n",
    "            url = \"https://pro-api.coingecko.com/api/v3/simple/price\"\n",
    "            params = {\n",
    "                \"ids\": \"ethereum\",\n",
    "                \"vs_currencies\": \"usd\",\n",
    "                \"include_24hr_change\": \"true\"\n",
    "            }\n",
    "            headers = {\"x-cg-pro-api-key\": COINGECKO_API_KEY}\n",
    "            \n",
    "            response = requests.get(url, params=params, headers=headers, timeout=15)\n",
    "            response.raise_for_status()\n",
    "            data = response.json()\n",
    "            \n",
    "            eth_data = data.get(\"ethereum\", {})\n",
    "            price = eth_data.get(\"usd\", 0.0)\n",
    "            change = eth_data.get(\"usd_24h_change\", 0.0)\n",
    "            \n",
    "            logger.info(f\"Got ETH price from CoinGecko: ${price:.2f}\")\n",
    "            return {\"price\": price, \"change_24h\": change, \"source\": \"coingecko\"}\n",
    "            \n",
    "        except Exception as e:\n",
    "            logger.error(f\"Error getting ETH price from CoinGecko: {e}\")\n",
    "    \n",
    "    logger.warning(\"Could not get ETH price from any source\")\n",
    "    return {\"price\": 0.0, \"change_24h\": 0.0, \"source\": \"failed\"}\n"
   ]
  },
  {
   "cell_type": "code",
   "execution_count": 55,
   "id": "98296216",
   "metadata": {},
   "outputs": [
    {
     "name": "stderr",
     "output_type": "stream",
     "text": [
      "INFO:__main__:Got ETH price from CoinGecko: $4187.59\n"
     ]
    },
    {
     "data": {
      "text/plain": [
       "{'price': 4187.59, 'change_24h': -0.030177936245862985, 'source': 'coingecko'}"
      ]
     },
     "execution_count": 55,
     "metadata": {},
     "output_type": "execute_result"
    }
   ],
   "source": [
    "get_eth_price()"
   ]
  },
  {
   "cell_type": "markdown",
   "id": "e84c1bd2",
   "metadata": {},
   "source": [
    "### Get token holdings"
   ]
  },
  {
   "cell_type": "code",
   "execution_count": null,
   "id": "0e751509",
   "metadata": {},
   "outputs": [],
   "source": [
    "async def get_token_balances_etherscan(wallet_address: str, session: aiohttp.ClientSession) -> List[Dict]:\n",
    "    \"\"\"Get current token balances using Etherscan API.\"\"\"\n",
    "    if not validate_ethereum_address(wallet_address):\n",
    "        logger.error(\"Invalid wallet address provided to Etherscan function\")\n",
    "        return []\n",
    "    \n",
    "    url = \"https://api.etherscan.io/api\"\n",
    "    params = {\n",
    "        \"module\": \"account\",\n",
    "        \"action\": \"tokenbalance\",\n",
    "        \"address\": wallet_address,\n",
    "        \"tag\": \"latest\",\n",
    "        \"apikey\": ETHERSCAN_API_KEY\n",
    "    }"
   ]
  },
  {
   "cell_type": "code",
   "execution_count": 64,
   "id": "d3ba5b13",
   "metadata": {},
   "outputs": [],
   "source": [
    "async with aiohttp.ClientSession() as session:\n",
    "    tokens = await get_token_balances_etherscan(\"0x226cc0Bae5251EBb637B9ecF5B1CdB99764abBCD\", session)\n",
    "tokens"
   ]
  },
  {
   "cell_type": "code",
   "execution_count": 42,
   "id": "3e2be4fa",
   "metadata": {},
   "outputs": [],
   "source": [
    "\n",
    "async def fetch_coingecko_prices(session: aiohttp.ClientSession, tokens: List[str]) -> Dict:\n",
    "    \"\"\"Fetch prices from CoinGecko\"\"\"\n",
    "    if not tokens or not COINGECKO_API_KEY:\n",
    "        return {}\n",
    "\n",
    "    logger.info(f\"Fetching fallback prices for {len(tokens)} tokens from CoinGecko...\")\n",
    "    \n",
    "    all_prices = {}\n",
    "    headers = {\"accept\": \"application/json\", \"x-cg-pro-api-key\": COINGECKO_API_KEY}\n",
    "    \n",
    "    # Process in smaller chunks for better reliability\n",
    "    chunk_size = 15\n",
    "    for i in range(0, len(tokens), chunk_size):\n",
    "        chunk = tokens[i:i + chunk_size]\n",
    "        contract_addresses_str = ','.join(chunk)\n",
    "        url = f\"https://pro-api.coingecko.com/api/v3/simple/token_price/ethereum?contract_addresses={contract_addresses_str}&vs_currencies=usd&include_24hr_change=true\"\n",
    "\n",
    "        for attempt in range(2):  # Reduced attempts for fallback\n",
    "            try:\n",
    "                async with session.get(url, headers=headers, timeout=15) as response:\n",
    "                    if response.status == 429:\n",
    "                        wait_time = 2 ** attempt\n",
    "                        logger.warning(f\"CoinGecko rate limited, waiting {wait_time}s...\")\n",
    "                        await asyncio.sleep(wait_time)\n",
    "                        continue\n",
    "                        \n",
    "                    if response.status == 200:\n",
    "                        data = await response.json()\n",
    "                        \n",
    "                        if isinstance(data, dict):\n",
    "                            for contract, price_info in data.items():\n",
    "                                if contract and isinstance(price_info, dict) and \"usd\" in price_info:\n",
    "                                    price = price_info.get(\"usd\", 0.0)\n",
    "                                    if 0 < price <= MAX_TOKEN_PRICE:\n",
    "                                        all_prices[contract.lower()] = {\n",
    "                                            \"price\": price,\n",
    "                                            \"change_24h\": price_info.get(\"usd_24h_change\", 0.0),\n",
    "                                            \"source\": \"coingecko\"\n",
    "                                        }\n",
    "                                        logger.debug(f\"CoinGecko: {contract} = ${price:.6f}\")\n",
    "                    break\n",
    "                    \n",
    "            except Exception as e:\n",
    "                logger.error(f\"CoinGecko fallback error: {e}\")\n",
    "                if attempt == 1:\n",
    "                    break\n",
    "\n",
    "        await asyncio.sleep(0.3)  # Rate limiting\n",
    "\n",
    "    logger.info(f\"CoinGecko fallback: Found prices for {len(all_prices)} tokens\")\n",
    "    return all_prices\n"
   ]
  },
  {
   "cell_type": "code",
   "execution_count": 43,
   "id": "2d0e66ce",
   "metadata": {},
   "outputs": [
    {
     "name": "stderr",
     "output_type": "stream",
     "text": [
      "INFO:__main__:Fetching fallback prices for 6 tokens from CoinGecko...\n",
      "ERROR:__main__:CoinGecko fallback error: Cannot connect to host pro-api.coingecko.com:443 ssl:default [getaddrinfo failed]\n",
      "ERROR:__main__:CoinGecko fallback error: Cannot connect to host pro-api.coingecko.com:443 ssl:default [getaddrinfo failed]\n",
      "INFO:__main__:CoinGecko fallback: Found prices for 0 tokens\n"
     ]
    },
    {
     "data": {
      "text/plain": [
       "{}"
      ]
     },
     "execution_count": 43,
     "metadata": {},
     "output_type": "execute_result"
    }
   ],
   "source": [
    "async with aiohttp.ClientSession() as session:\n",
    "    prices = await fetch_coingecko_prices(session, ['0xB8c77482e45F1F44dE1745F52C74426C631bDD52',\n",
    " '0xC02aaA39b223FE8D0A0e5C4F27eAD9083C756Cc2',\n",
    " '0x67954768e721fad0f0f21e33e874497c73ed6a82',\n",
    " '0xb44377b74ef1773639b663d0754cb8410a847d02',\n",
    " '0xbe060eb32343208ed36c333020fc7c3d91754958',\n",
    " '0xc02aaa39b223fe8d0a0e5c4f27ead9083c756cc2'])\n",
    "prices"
   ]
  },
  {
   "cell_type": "code",
   "execution_count": 44,
   "id": "ee5b73a5",
   "metadata": {},
   "outputs": [],
   "source": [
    "\n",
    "# async def fetch_token_prices(session: aiohttp.ClientSession, tokens: List[str]) -> Dict:    \n",
    "#     if not tokens:\n",
    "#         return {}\n",
    "\n",
    "#     all_prices = {}\n",
    "        \n",
    "#     # Get CoinGecko for tokens\n",
    "#     tokens_ = [token for token in tokens if token.lower() not in all_prices]\n",
    "    \n",
    "#     if tokens_ and COINGECKO_API_KEY:\n",
    "#         logger.info(f\"Step 2: Fetching {len(tokens_)} tokens from CoinGecko...\")\n",
    "#         coingecko_prices = await fetch_coingecko_prices(session, tokens_)\n",
    "#         all_prices.update(coingecko_prices)\n",
    "    \n",
    "#     # Mark remaining tokens as not found\n",
    "#     missing_tokens = [token for token in tokens if token.lower() not in all_prices]\n",
    "#     for token in missing_tokens:\n",
    "#         all_prices[token.lower()] = {\n",
    "#             \"price\": 0.0,\n",
    "#             \"change_24h\": 0.0,\n",
    "#             \"source\": \"not_found\"\n",
    "#         }\n",
    "#         logger.warning(f\"No price found for token {token}\")\n",
    "\n",
    "#     # Log summary\n",
    "#     sources = {}\n",
    "#     for price_data in all_prices.values():\n",
    "#         source = price_data.get(\"source\", \"unknown\")\n",
    "#         sources[source] = sources.get(source, 0) + 1\n",
    "    \n",
    "#     logger.info(f\"Price fetching complete. Sources: {dict(sources)}\")\n",
    "#     return all_prices\n"
   ]
  },
  {
   "cell_type": "code",
   "execution_count": 45,
   "id": "620f94a8",
   "metadata": {},
   "outputs": [],
   "source": [
    "# async with aiohttp.ClientSession() as session:\n",
    "#     fetch_token_prices = await fetch_token_prices(session, ['0x243cacb4d5ff6814ad668c3e225246efa886ad5a',\n",
    "#     '0x4521c9ad6a3d4230803ab752ed238be11f8b342f'])\n",
    "# fetch_token_prices"
   ]
  },
  {
   "cell_type": "code",
   "execution_count": 46,
   "id": "4eba691a",
   "metadata": {},
   "outputs": [],
   "source": [
    "def save_token_database(tokens: Dict):\n",
    "    \"\"\"Save token price cache.\"\"\"\n",
    "    try:\n",
    "        joblib.dump(tokens, TOKEN_DATABASE_CACHE)\n",
    "        logger.info(f\"Saved {len(tokens)} tokens to cache\")\n",
    "    except Exception as e:\n",
    "        logger.error(f\"Failed to save cache: {e}\")"
   ]
  },
  {
   "cell_type": "code",
   "execution_count": 47,
   "id": "b76fda9b",
   "metadata": {},
   "outputs": [],
   "source": [
    "\n",
    "def load_or_create_token_database() -> Dict:\n",
    "    \"\"\"Load token price cache.\"\"\"\n",
    "    os.makedirs(DATABASE_FOLDER, exist_ok=True)\n",
    "    \n",
    "    try:\n",
    "        tokens = joblib.load(TOKEN_DATABASE_CACHE)\n",
    "        logger.info(f\"Loaded {len(tokens)} tokens from cache\")\n",
    "        \n",
    "        # Clean expired entries\n",
    "        cleaned_tokens = {}\n",
    "        current_time = time.time()\n",
    "        \n",
    "        for addr, data in tokens.items():\n",
    "            if (isinstance(data, dict) and \n",
    "                \"price\" in data and \n",
    "                \"timestamp\" in data and\n",
    "                current_time - data[\"timestamp\"] <= CACHE_EXPIRATION_TIME):\n",
    "                cleaned_tokens[addr] = data\n",
    "        \n",
    "        if len(cleaned_tokens) < len(tokens):\n",
    "            logger.info(f\"Cleaned {len(tokens) - len(cleaned_tokens)} expired entries\")\n",
    "            save_token_database(cleaned_tokens)\n",
    "        \n",
    "        return cleaned_tokens\n",
    "        \n",
    "    except FileNotFoundError:\n",
    "        logger.info(\"No cache found, starting fresh\")\n",
    "        return {}\n",
    "    except Exception as e:\n",
    "        logger.error(f\"Cache error: {e}, starting fresh\")\n",
    "        return {}\n"
   ]
  },
  {
   "cell_type": "code",
   "execution_count": null,
   "id": "98e68884",
   "metadata": {},
   "outputs": [],
   "source": [
    "async def get_portfolio_data(wallet_address: str) -> Dict:\n",
    "    \"\"\"Main function to get a full portfolio breakdown: ETH balance, token balances, and their values.\"\"\"\n",
    "    logger.info(f\"Analyzing portfolio for {wallet_address}\")\n",
    "\n",
    "    # Load the local token price cache.\n",
    "    token_database = load_or_create_token_database()\n",
    "\n",
    "    # Get ETH balance and its price.\n",
    "    eth_balance = get_eth_balance(wallet_address)\n",
    "    eth_price_data = get_eth_price()\n",
    "\n",
    "    # Initialize the portfolio dictionary.\n",
    "    portfolio = {\n",
    "        \"wallet_address\": wallet_address,\n",
    "        \"eth_balance\": eth_balance,\n",
    "        \"eth_price\": eth_price_data[\"price\"],\n",
    "        \"eth_change_24h\": eth_price_data[\"change_24h\"],\n",
    "        \"eth_value\": eth_balance * eth_price_data[\"price\"],\n",
    "        \"tokens\": [],\n",
    "        \"total_value\": eth_balance * eth_price_data[\"price\"],\n",
    "        \"last_updated\": time.strftime(\"%Y-%m-%d %H:%M:%S\")\n",
    "    }\n",
    "\n",
    "    # Fetch held tokens from Alchemy API.\n",
    "    async with aiohttp.ClientSession() as session:\n",
    "        held_token_addresses = await get_held_tokens_alchemy(wallet_address, session)\n",
    "\n",
    "        # Identify which token prices need to be fetched (not in cache or expired).\n",
    "        missing_tokens = []\n",
    "        for addr in held_token_addresses:\n",
    "            addr_lower = addr.lower()\n",
    "            if addr_lower not in token_database or (token_database[addr_lower].get(\"timestamp\", 0) < time.time() - CACHE_EXPIRATION_TIME):\n",
    "                missing_tokens.append(addr)\n",
    "            else:\n",
    "                logger.debug(f\"Using cached price for {addr_lower}: ${token_database[addr_lower]['price']:.8f}\")\n",
    "\n",
    "        # Fetch prices for missing tokens and update the cache.\n",
    "        if missing_tokens:\n",
    "            logger.info(f\"Fetching prices for {len(missing_tokens)} tokens...\")\n",
    "            new_prices = await fetch_coingecko_prices(session, missing_tokens)\n",
    "            for addr, price_data in new_prices.items():\n",
    "                token_database[addr.lower()] = {\n",
    "                    \"price\": price_data[\"price\"],\n",
    "                    \"change_24h\": price_data[\"change_24h\"],\n",
    "                    \"timestamp\": time.time()\n",
    "                }\n",
    "            save_token_database(token_database)\n",
    "        else:\n",
    "            logger.info(\"All token prices are in the cache and up-to-date.\")\n",
    "\n",
    "        # Process all held tokens to get their details and calculate values.\n",
    "        if held_token_addresses:\n",
    "            logger.info(f\"Processing {len(held_token_addresses)} tokens...\")\n",
    "\n",
    "            # Run balance and info fetching concurrently using asyncio.to_thread for blocking calls.\n",
    "            token_info_tasks = [\n",
    "                asyncio.to_thread(get_token_info_and_balance, wallet_address, addr)\n",
    "                for addr in held_token_addresses\n",
    "            ]\n",
    "\n",
    "            token_infos = await asyncio.gather(*token_info_tasks)\n",
    "\n",
    "            # Build the final portfolio data structure.\n",
    "            for token_info in token_infos:\n",
    "                if token_info[\"balance\"] > 0:\n",
    "                    addr_lower = token_info[\"address\"].lower()\n",
    "                    price_data = token_database.get(addr_lower, {\"price\": 0.0, \"change_24h\": 0.0, \"timestamp\": 0})\n",
    "\n",
    "                    token_info.update({\n",
    "                        \"price\": price_data[\"price\"],\n",
    "                        \"change_24h\": price_data[\"change_24h\"],\n",
    "                        \"value\": token_info[\"balance\"] * price_data[\"price\"]\n",
    "                    })\n",
    "\n",
    "                    portfolio[\"tokens\"].append(token_info)\n",
    "                    portfolio[\"total_value\"] += token_info[\"value\"]\n",
    "\n",
    "    # Sort tokens by value in descending order.\n",
    "    portfolio[\"tokens\"].sort(key=lambda x: x[\"value\"], reverse=True)\n",
    "\n",
    "    logger.info(f\"Portfolio analysis complete. Total value: ${portfolio['total_value']:,.2f}\")\n",
    "    return portfolio\n"
   ]
  },
  {
   "cell_type": "code",
   "execution_count": 49,
   "id": "7db3e8ef",
   "metadata": {},
   "outputs": [],
   "source": [
    "\n",
    "# --- Main Execution ---\n",
    "async def main():\n",
    "    \"\"\"Main execution function.\"\"\"\n",
    "    wallet_address = \"0xde0B295669a9FD93d5F28D9Ec85E40f4cb697BAe\"\n",
    "\n",
    "    logger.info(\"Starting simplified portfolio analysis (1inch primary, CoinGecko fallback)...\")\n",
    "    if not validate_ethereum_address(wallet_address):\n",
    "        logger.error(\"Invalid Ethereum address\")\n",
    "        return\n",
    "\n",
    "    # Get portfolio data\n",
    "    portfolio = await get_portfolio_data(wallet_address)\n",
    "    \n",
    "    if \"error\" in portfolio:\n",
    "        print(f\"Error: {portfolio['error']}\")\n",
    "        return\n",
    "\n",
    "    # Print results\n",
    "    print(\"\\n\" + \"=\"*60)\n",
    "    print(f\"Portfolio Summary for {portfolio['wallet_address']}\")\n",
    "    print(\"=\"*60)\n",
    "    print(f\"ETH Balance: {portfolio['eth_balance']:.4f} ETH\")\n",
    "    print(f\"ETH Price: ${portfolio['eth_price']:,.2f} ({portfolio['eth_change_24h']:+.2f}%)\")\n",
    "    print(f\"ETH Value: ${portfolio['eth_value']:,.2f}\")\n",
    "    print(f\"Total Portfolio: ${portfolio['total_value']:,.2f}\")\n",
    "    print(f\"Tokens: {len(portfolio['tokens'])}\")\n",
    "    # print(f\"Sources: {', '.join(portfolio['price_sources_used'])}\")\n",
    "\n",
    "    if portfolio['tokens']:\n",
    "        print(f\"\\nTop 10 Holdings:\")\n",
    "        print(\"-\" * 90)\n",
    "        print(f\"{'Token':<20} {'Balance':<15} {'Price':<15} {'Value':<12} {'24h':<10} {'Source':<12}\")\n",
    "        print(\"-\" * 90)\n",
    "\n",
    "        for token in portfolio['tokens'][:10]:\n",
    "            balance_str = f\"{token['balance']:.4f}\"\n",
    "            price_str = f\"${token['price']:.8f}\" if token['price'] < 0.01 else f\"${token['price']:,.4f}\"\n",
    "            value_str = f\"${token['value']:,.2f}\"\n",
    "            change_str = f\"{token['change_24h']:+.2f}%\" if token['change_24h'] is not None and token['change_24h'] != 0 else \"N/A\"\n",
    "            source_str = token.get('price_source', 'coingecko')[:12]\n",
    "\n",
    "            print(f\"{token['symbol']:<20} {balance_str:<15} {price_str:<15} {value_str:<12} {change_str:<10} {source_str:<12}\")\n"
   ]
  },
  {
   "cell_type": "code",
   "execution_count": 50,
   "id": "eaba36d2",
   "metadata": {},
   "outputs": [
    {
     "name": "stderr",
     "output_type": "stream",
     "text": [
      "INFO:__main__:Starting simplified portfolio analysis (1inch primary, CoinGecko fallback)...\n",
      "INFO:__main__:Analyzing portfolio for 0xde0B295669a9FD93d5F28D9Ec85E40f4cb697BAe using Etherscan API\n",
      "INFO:__main__:Loaded 6 tokens from cache\n",
      "INFO:__main__:Web3 connected. Latest block: 23117759\n",
      "ERROR:__main__:Error getting ETH price from CoinGecko: HTTPSConnectionPool(host='pro-api.coingecko.com', port=443): Max retries exceeded with url: /api/v3/simple/price?ids=ethereum&vs_currencies=usd&include_24hr_change=true (Caused by NameResolutionError(\"<urllib3.connection.HTTPSConnection object at 0x000001453421EFB0>: Failed to resolve 'pro-api.coingecko.com' ([Errno 11002] getaddrinfo failed)\"))\n",
      "WARNING:__main__:Could not get ETH price from any source\n"
     ]
    },
    {
     "ename": "NameError",
     "evalue": "name 'get_token_balances_etherscan' is not defined",
     "output_type": "error",
     "traceback": [
      "\u001b[1;31m---------------------------------------------------------------------------\u001b[0m",
      "\u001b[1;31mNameError\u001b[0m                                 Traceback (most recent call last)",
      "Cell \u001b[1;32mIn[50], line 1\u001b[0m\n\u001b[1;32m----> 1\u001b[0m \u001b[38;5;28;01mawait\u001b[39;00m main()\n",
      "Cell \u001b[1;32mIn[49], line 12\u001b[0m, in \u001b[0;36mmain\u001b[1;34m()\u001b[0m\n\u001b[0;32m      9\u001b[0m     \u001b[38;5;28;01mreturn\u001b[39;00m\n\u001b[0;32m     11\u001b[0m \u001b[38;5;66;03m# Get portfolio data\u001b[39;00m\n\u001b[1;32m---> 12\u001b[0m portfolio \u001b[38;5;241m=\u001b[39m \u001b[38;5;28;01mawait\u001b[39;00m get_portfolio_data(wallet_address)\n\u001b[0;32m     14\u001b[0m \u001b[38;5;28;01mif\u001b[39;00m \u001b[38;5;124m\"\u001b[39m\u001b[38;5;124merror\u001b[39m\u001b[38;5;124m\"\u001b[39m \u001b[38;5;129;01min\u001b[39;00m portfolio:\n\u001b[0;32m     15\u001b[0m     \u001b[38;5;28mprint\u001b[39m(\u001b[38;5;124mf\u001b[39m\u001b[38;5;124m\"\u001b[39m\u001b[38;5;124mError: \u001b[39m\u001b[38;5;132;01m{\u001b[39;00mportfolio[\u001b[38;5;124m'\u001b[39m\u001b[38;5;124merror\u001b[39m\u001b[38;5;124m'\u001b[39m]\u001b[38;5;132;01m}\u001b[39;00m\u001b[38;5;124m\"\u001b[39m)\n",
      "Cell \u001b[1;32mIn[48], line 27\u001b[0m, in \u001b[0;36mget_portfolio_data\u001b[1;34m(wallet_address, debug_mode)\u001b[0m\n\u001b[0;32m     25\u001b[0m \u001b[38;5;66;03m# Get token addresses using Etherscan\u001b[39;00m\n\u001b[0;32m     26\u001b[0m \u001b[38;5;28;01masync\u001b[39;00m \u001b[38;5;28;01mwith\u001b[39;00m aiohttp\u001b[38;5;241m.\u001b[39mClientSession() \u001b[38;5;28;01mas\u001b[39;00m session:\n\u001b[1;32m---> 27\u001b[0m     held_token_addresses \u001b[38;5;241m=\u001b[39m \u001b[38;5;28;01mawait\u001b[39;00m \u001b[43mget_token_balances_etherscan\u001b[49m(wallet_address, session)\n\u001b[0;32m     29\u001b[0m     \u001b[38;5;28;01mif\u001b[39;00m debug_mode:\n\u001b[0;32m     30\u001b[0m         portfolio[\u001b[38;5;124m\"\u001b[39m\u001b[38;5;124mdebug_info\u001b[39m\u001b[38;5;124m\"\u001b[39m]\u001b[38;5;241m.\u001b[39mappend(\u001b[38;5;124mf\u001b[39m\u001b[38;5;124m\"\u001b[39m\u001b[38;5;124mFound \u001b[39m\u001b[38;5;132;01m{\u001b[39;00m\u001b[38;5;28mlen\u001b[39m(held_token_addresses)\u001b[38;5;132;01m}\u001b[39;00m\u001b[38;5;124m token addresses from Etherscan\u001b[39m\u001b[38;5;124m\"\u001b[39m)\n",
      "\u001b[1;31mNameError\u001b[0m: name 'get_token_balances_etherscan' is not defined"
     ]
    }
   ],
   "source": [
    "await main()"
   ]
  }
 ],
 "metadata": {
  "kernelspec": {
   "display_name": "crypto-portifolio-tracker",
   "language": "python",
   "name": "python3"
  },
  "language_info": {
   "codemirror_mode": {
    "name": "ipython",
    "version": 3
   },
   "file_extension": ".py",
   "mimetype": "text/x-python",
   "name": "python",
   "nbconvert_exporter": "python",
   "pygments_lexer": "ipython3",
   "version": "3.10.7"
  }
 },
 "nbformat": 4,
 "nbformat_minor": 5
}
