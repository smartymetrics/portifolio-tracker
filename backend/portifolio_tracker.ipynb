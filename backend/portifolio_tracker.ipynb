{
 "cells": [
  {
   "cell_type": "markdown",
   "id": "eaabc42a",
   "metadata": {},
   "source": [
    "### Import important libraries"
   ]
  },
  {
   "cell_type": "code",
   "execution_count": 112,
   "id": "729bbe08",
   "metadata": {},
   "outputs": [],
   "source": [
    "import pandas as pd\n",
    "import requests\n",
    "import os\n",
    "from dotenv import load_dotenv\n",
    "from typing import Dict, List, Optional\n",
    "import time\n",
    "import asyncio\n",
    "import aiohttp\n",
    "from web3 import Web3\n"
   ]
  },
  {
   "cell_type": "markdown",
   "id": "3eb142c1",
   "metadata": {},
   "source": [
    "### Load environment variable, connect to ethereum and API setup "
   ]
  },
  {
   "cell_type": "code",
   "execution_count": 113,
   "id": "fffa1ff8",
   "metadata": {},
   "outputs": [
    {
     "name": "stdout",
     "output_type": "stream",
     "text": [
      "Connection failed.\n"
     ]
    }
   ],
   "source": [
    "# Load environment variables\n",
    "load_dotenv()\n",
    "\n",
    "# API Keys\n",
    "ETHERSCAN_API_KEY = os.getenv(\"ETHERSCAN_API_KEY\")\n",
    "COINGECKO_API_KEY = os.getenv(\"COINGECKO_API_KEY\")\n",
    "\n",
    "WEB3_PROVIDER_URL = os.getenv(\"WEB3_PROVIDER_URL\")\n",
    "w3 = Web3(Web3.HTTPProvider(WEB3_PROVIDER_URL))\n",
    "\n",
    "# Check if the connection is successful\n",
    "if w3.is_connected():\n",
    "    print(\"Connected to Ethereum network.\")\n",
    "else:\n",
    "    print(\"Connection failed.\")\n",
    "\n",
    "def check_api_keys() -> Dict[str, bool]:\n",
    "    \"\"\"Check if API keys are loaded\"\"\"\n",
    "    return {\n",
    "        \"etherscan\": bool(ETHERSCAN_API_KEY),\n",
    "        \"coingecko\": bool(COINGECKO_API_KEY)\n",
    "    }"
   ]
  },
  {
   "cell_type": "code",
   "execution_count": 114,
   "id": "270b6259",
   "metadata": {},
   "outputs": [
    {
     "data": {
      "text/plain": [
       "{'etherscan': True, 'coingecko': True}"
      ]
     },
     "execution_count": 114,
     "metadata": {},
     "output_type": "execute_result"
    }
   ],
   "source": [
    "check_api_keys()"
   ]
  },
  {
   "cell_type": "markdown",
   "id": "bac2ca4f",
   "metadata": {},
   "source": [
    "### Get eth balance"
   ]
  },
  {
   "cell_type": "code",
   "execution_count": 115,
   "id": "e636c874",
   "metadata": {},
   "outputs": [],
   "source": [
    "# The simplified ABI for ERC-20 tokens (this is required to interact with the contract)\n",
    "ERC20_ABI = [\n",
    "    {\n",
    "        \"constant\": True,\n",
    "        \"inputs\": [{\"name\": \"_owner\", \"type\": \"address\"}],\n",
    "        \"name\": \"balanceOf\",\n",
    "        \"outputs\": [{\"name\": \"balance\", \"type\": \"uint256\"}],\n",
    "        \"type\": \"function\",\n",
    "    },\n",
    "    {\n",
    "        \"constant\": True,\n",
    "        \"inputs\": [],\n",
    "        \"name\": \"decimals\",\n",
    "        \"outputs\": [{\"name\": \"\", \"type\": \"uint8\"}],\n",
    "        \"type\": \"function\",\n",
    "    },\n",
    "    {\n",
    "        \"constant\": True,\n",
    "        \"inputs\": [],\n",
    "        \"name\": \"symbol\",\n",
    "        \"outputs\": [{\"name\": \"\", \"type\": \"string\"}],\n",
    "        \"type\": \"function\",\n",
    "    }\n",
    "]"
   ]
  },
  {
   "cell_type": "code",
   "execution_count": 116,
   "id": "ca809b8e",
   "metadata": {},
   "outputs": [],
   "source": [
    "def get_eth_balance(wallet_address: str, w3: Web3) -> float:\n",
    "    \"\"\"Get the ETH balance of a wallet using web3.py.\"\"\"\n",
    "    try:\n",
    "        balance_wei = w3.eth.get_balance(w3.to_checksum_address(wallet_address))\n",
    "        balance_eth = w3.from_wei(balance_wei, 'ether')\n",
    "        return float(balance_eth)\n",
    "    except Exception as e:\n",
    "        print(f\"Error getting ETH balance: {e}\")\n",
    "        return 0\n"
   ]
  },
  {
   "cell_type": "code",
   "execution_count": 117,
   "id": "97e5d315",
   "metadata": {},
   "outputs": [
    {
     "name": "stdout",
     "output_type": "stream",
     "text": [
      "Error getting ETH balance: HTTPSConnectionPool(host='eth-mainnet.g.alchemy.com', port=443): Max retries exceeded with url: /v2/OrFcVw7gBiw8VsPO9cLljK1mzs9NqFIz (Caused by NameResolutionError(\"<urllib3.connection.HTTPSConnection object at 0x0000025C7DDD3550>: Failed to resolve 'eth-mainnet.g.alchemy.com' ([Errno 11001] getaddrinfo failed)\"))\n",
      "0\n"
     ]
    }
   ],
   "source": [
    "balance = get_eth_balance(\"0x742d35Cc6634C0532925a3b844Bc454e4438f44e\", w3)\n",
    "print(balance)"
   ]
  },
  {
   "cell_type": "markdown",
   "id": "28aabe1d",
   "metadata": {},
   "source": [
    "### Get ETH price"
   ]
  },
  {
   "cell_type": "code",
   "execution_count": 118,
   "id": "f3e7a91d",
   "metadata": {},
   "outputs": [],
   "source": [
    "async def get_eth_price(session) -> float:\n",
    "    \"\"\"Get current ETH price from CoinGecko\"\"\"\n",
    "    try:\n",
    "        url = \"https://api.coingecko.com/api/v3/simple/price\"\n",
    "        params = {\n",
    "            \"ids\": \"ethereum\",\n",
    "            \"vs_currencies\": \"usd\",\n",
    "            \"include_24hr_change\": \"true\"\n",
    "        }\n",
    "        \n",
    "        async with session.get(url, params=params, timeout=10) as response:\n",
    "            response.raise_for_status()\n",
    "            data = await response.json()\n",
    "            \n",
    "            price_data = data.get(\"ethereum\", {})\n",
    "            return {\n",
    "                \"price\": price_data.get(\"usd\", 0),\n",
    "                \"change_24h\": price_data.get(\"usd_24h_change\", 0)\n",
    "            }\n",
    "        \n",
    "    except Exception as e:\n",
    "        print(f\"Error getting ETH price: {e}\")\n",
    "        return {\"price\": 0, \"change_24h\": 0}"
   ]
  },
  {
   "cell_type": "code",
   "execution_count": 119,
   "id": "41dedc9a",
   "metadata": {},
   "outputs": [
    {
     "name": "stdout",
     "output_type": "stream",
     "text": [
      "Error getting ETH price: Cannot connect to host api.coingecko.com:443 ssl:default [getaddrinfo failed]\n",
      "{'price': 0, 'change_24h': 0}\n"
     ]
    }
   ],
   "source": [
    "async with aiohttp.ClientSession() as session:\n",
    "    price = await get_eth_price(session)\n",
    "    print(price)"
   ]
  },
  {
   "cell_type": "markdown",
   "id": "55ee6dd0",
   "metadata": {},
   "source": [
    "### token Decimal and balance"
   ]
  },
  {
   "cell_type": "code",
   "execution_count": 120,
   "id": "37e38102",
   "metadata": {},
   "outputs": [],
   "source": [
    "TOKEN_DECIMALS_CACHE = {}\n",
    "async def get_token_decimals(contract_address: str, session) -> int:\n",
    "    \"\"\"Get token decimals from cache or Etherscan API.\"\"\"\n",
    "    if contract_address in TOKEN_DECIMALS_CACHE:\n",
    "        return TOKEN_DECIMALS_CACHE[contract_address]\n",
    "        \n",
    "    try:\n",
    "        url = \"https://api.etherscan.io/api\"\n",
    "        params = {\n",
    "            \"module\": \"token\",\n",
    "            \"action\": \"tokeninfo\",\n",
    "            \"contractaddress\": contract_address,\n",
    "            \"apikey\": ETHERSCAN_API_KEY\n",
    "        }\n",
    "        \n",
    "        async with session.get(url, params=params, timeout=10) as response:\n",
    "            response.raise_for_status()\n",
    "            data = await response.json()\n",
    "            \n",
    "            if data[\"status\"] == \"1\":\n",
    "                decimals = int(data[\"result\"][0][\"decimals\"])\n",
    "                TOKEN_DECIMALS_CACHE[contract_address] = decimals\n",
    "                return decimals\n",
    "        \n",
    "    except (requests.exceptions.RequestException, KeyError) as e:\n",
    "        print(f\"Error getting token decimals for {contract_address}: {e}\")\n",
    "        \n",
    "    # Default to 18 on API failure or if not found\n",
    "    TOKEN_DECIMALS_CACHE[contract_address] = 18\n",
    "    return 18\n",
    "\n",
    "def get_token_balance_dynamic(wallet_address: str, contract_address: str, w3: Web3) -> Dict:\n",
    "    \"\"\"\n",
    "    Get the balance, symbol, and decimals of a specific ERC-20 token.\n",
    "    Note: The name is retained for consistency, but it now directly queries the contract.\n",
    "    \"\"\"\n",
    "    try:\n",
    "        token_contract = w3.eth.contract(\n",
    "            address=w3.to_checksum_address(contract_address),\n",
    "            abi=ERC20_ABI\n",
    "        )\n",
    "        balance_wei = token_contract.functions.balanceOf(\n",
    "            w3.to_checksum_address(wallet_address)\n",
    "        ).call()\n",
    "        decimals = token_contract.functions.decimals().call()\n",
    "        symbol = token_contract.functions.symbol().call()\n",
    "        \n",
    "        balance = balance_wei / (10 ** decimals)\n",
    "        \n",
    "        return {\n",
    "            \"address\": contract_address,\n",
    "            \"symbol\": symbol,\n",
    "            \"balance\": balance\n",
    "        }\n",
    "    except Exception as e:\n",
    "        print(f\"Error getting token balance for {contract_address}: {e}\")\n",
    "        return {\n",
    "            \"address\": contract_address,\n",
    "            \"symbol\": \"Unknown\",\n",
    "            \"balance\": 0\n",
    "        }"
   ]
  },
  {
   "cell_type": "code",
   "execution_count": 121,
   "id": "94e902d0",
   "metadata": {},
   "outputs": [
    {
     "name": "stdout",
     "output_type": "stream",
     "text": [
      "Error getting token balance for 0x6982508145454ce325ddbe47a25d4ec3d2311933: HTTPSConnectionPool(host='eth-mainnet.g.alchemy.com', port=443): Max retries exceeded with url: /v2/OrFcVw7gBiw8VsPO9cLljK1mzs9NqFIz (Caused by NameResolutionError(\"<urllib3.connection.HTTPSConnection object at 0x0000025C7DF4ED70>: Failed to resolve 'eth-mainnet.g.alchemy.com' ([Errno 11001] getaddrinfo failed)\"))\n",
      "{'address': '0x6982508145454ce325ddbe47a25d4ec3d2311933', 'symbol': 'Unknown', 'balance': 0}\n"
     ]
    }
   ],
   "source": [
    "wallet_address = \"0x742d35Cc6634C0532925a3b844Bc454e4438f44e\"\n",
    "contract_address = \"0x6982508145454ce325ddbe47a25d4ec3d2311933\"\n",
    "\n",
    "token_balance = get_token_balance_dynamic(wallet_address, contract_address, w3)\n",
    "print(token_balance)"
   ]
  },
  {
   "cell_type": "markdown",
   "id": "2e320010",
   "metadata": {},
   "source": [
    "### Get erc-20 holdings"
   ]
  },
  {
   "cell_type": "code",
   "execution_count": 122,
   "id": "9ab1445c",
   "metadata": {},
   "outputs": [],
   "source": [
    "# async def get_erc20_tokens(wallet_address: str, session) -> List[Dict]:\n",
    "#     \"\"\"\n",
    "#     Get a list of all ERC-20 tokens with a non-zero balance for a wallet.\n",
    "    \n",
    "#     Args:\n",
    "#         wallet_address (str): The Ethereum wallet address.\n",
    "#         session (aiohttp.ClientSession): The async session object.\n",
    "    \n",
    "#     Returns:\n",
    "#         List[Dict]: A list of dictionaries, where each dict represents a token with\n",
    "#                     its contract address, symbol, and decimals.\n",
    "#     \"\"\"\n",
    "#     try:\n",
    "#         # Step 1: Get all token transfer events to find unique tokens\n",
    "#         url = \"https://api.etherscan.io/api\"\n",
    "#         params = {\n",
    "#             \"module\": \"account\",\n",
    "#             \"action\": \"tokentx\",\n",
    "#             \"address\": wallet_address,\n",
    "#             \"apikey\": ETHERSCAN_API_KEY\n",
    "#         }\n",
    "        \n",
    "#         async with session.get(url, params=params, timeout=20) as response:\n",
    "#             response.raise_for_status()\n",
    "#             tx_data = await response.json()\n",
    "            \n",
    "#             if tx_data[\"status\"] != \"1\":\n",
    "#                 return []\n",
    "            \n",
    "#             # Extract unique contract addresses from the transaction history\n",
    "#             unique_tokens = {\n",
    "#                 tx[\"contractAddress\"]: {\n",
    "#                     \"address\": tx[\"contractAddress\"],\n",
    "#                     \"symbol\": tx[\"tokenSymbol\"]\n",
    "#                 } for tx in tx_data[\"result\"]\n",
    "#             }\n",
    "            \n",
    "#             # Step 2: Check the balance for each unique token concurrently\n",
    "#             balance_tasks = [\n",
    "#                 get_token_balance_dynamic(wallet_address, token_info[\"address\"], session)\n",
    "#                 for token_info in unique_tokens.values()\n",
    "#             ]\n",
    "#             balances = await asyncio.gather(*balance_tasks)\n",
    "            \n",
    "#             # Combine token info with balance and filter out zero balances\n",
    "#             held_tokens = []\n",
    "#             for i, token_info in enumerate(unique_tokens.values()):\n",
    "#                 if balances[i] > 0:\n",
    "#                     held_tokens.append({\n",
    "#                         \"address\": token_info[\"address\"],\n",
    "#                         \"symbol\": token_info[\"symbol\"],\n",
    "#                         \"balance\": balances[i]\n",
    "#                     })\n",
    "            \n",
    "#             return held_tokens\n",
    "            \n",
    "#     except Exception as e:\n",
    "#         print(f\"Error getting ERC-20 tokens: {e}\")\n",
    "#         return []"
   ]
  },
  {
   "cell_type": "code",
   "execution_count": 123,
   "id": "2e6715d3",
   "metadata": {},
   "outputs": [],
   "source": [
    "# async with aiohttp.ClientSession() as session:\n",
    "#     tokens = await get_erc20_tokens(\"0x4838B106FCe9647Bdf1E7877BF73cE8B0BAD5f97\", session)  # Example wallet address\n",
    "#     print(tokens)"
   ]
  },
  {
   "cell_type": "markdown",
   "id": "b229c16f",
   "metadata": {},
   "source": [
    "### Get prices of tokens"
   ]
  },
  {
   "cell_type": "markdown",
   "id": "c899753f",
   "metadata": {},
   "source": [
    "#### Get list of tokens supported by coingecko"
   ]
  },
  {
   "cell_type": "code",
   "execution_count": 124,
   "id": "57cb0e3a",
   "metadata": {},
   "outputs": [],
   "source": [
    "async def get_coingecko_token_list(session: aiohttp.ClientSession) -> set:\n",
    "    \"\"\"\n",
    "    Fetches a set of all token IDs known to CoinGecko.\n",
    "    \"\"\"\n",
    "    try:\n",
    "        url = \"https://api.coingecko.com/api/v3/coins/list\"\n",
    "        async with session.get(url, timeout=20) as response:\n",
    "            response.raise_for_status()\n",
    "            data = await response.json()\n",
    "            # We're interested in the ID for the token, not the contract address for this endpoint\n",
    "            return {item['id'] for item in data}\n",
    "    except Exception as e:\n",
    "        print(f\"Error getting CoinGecko token list: {e}\")\n",
    "        return set()"
   ]
  },
  {
   "cell_type": "code",
   "execution_count": 125,
   "id": "66605d67",
   "metadata": {},
   "outputs": [],
   "source": [
    "async def get_multiple_token_prices(token_addresses: List[str], session: aiohttp.ClientSession) -> Dict:\n",
    "    \"\"\"\n",
    "    Fetches the price for a list of ERC-20 tokens, handling errors for unknown tokens individually.\n",
    "    \"\"\"\n",
    "    prices = {}\n",
    "    \n",
    "    # Create a list of tasks for each token\n",
    "    price_tasks = []\n",
    "    for addr in token_addresses:\n",
    "        # Create a task for each individual token price request\n",
    "        task = asyncio.create_task(get_single_token_price(addr, session))\n",
    "        price_tasks.append(task)\n",
    "        \n",
    "    # Run all tasks concurrently\n",
    "    results = await asyncio.gather(*price_tasks, return_exceptions=True)\n",
    "    \n",
    "    # Process the results\n",
    "    for addr, result in zip(token_addresses, results):\n",
    "        if not isinstance(result, Exception):\n",
    "            # If the call was successful, add the price data\n",
    "            prices.update(result)\n",
    "        else:\n",
    "            # If there was an error, print a message but continue\n",
    "            print(f\"Failed to get price for {addr}. Error: {result}\")\n",
    "            \n",
    "    return prices\n",
    "\n",
    "\n",
    "async def get_single_token_price(token_address: str, session: aiohttp.ClientSession) -> Dict:\n",
    "    \"\"\"\n",
    "    Fetches the price for a single token, returning an empty dict on failure.\n",
    "    \"\"\"\n",
    "    try:\n",
    "        url = \"https://api.coingecko.com/api/v3/simple/token_price/ethereum\"\n",
    "        params = {\n",
    "            \"contract_addresses\": token_address.lower(),\n",
    "            \"vs_currencies\": \"usd\",\n",
    "            \"include_24hr_change\": \"true\"\n",
    "        }\n",
    "        \n",
    "        async with session.get(url, params=params, timeout=10) as response:\n",
    "            response.raise_for_status()\n",
    "            data = await response.json()\n",
    "            return data\n",
    "    except Exception as e:\n",
    "        # The exception is returned and handled by the caller\n",
    "        raise e"
   ]
  },
  {
   "cell_type": "code",
   "execution_count": 126,
   "id": "7b290681",
   "metadata": {},
   "outputs": [],
   "source": [
    "async def get_single_token_price(contract_address: str, session) -> Dict:\n",
    "    \"\"\"Get price for a single token from CoinGecko API.\"\"\"\n",
    "    try:\n",
    "        url = \"https://api.coingecko.com/api/v3/simple/token_price/ethereum\"\n",
    "        params = {\n",
    "            \"contract_addresses\": contract_address.lower(),\n",
    "            \"vs_currencies\": \"usd\",\n",
    "            \"include_24hr_change\": \"true\"\n",
    "        }\n",
    "        \n",
    "        async with session.get(url, params=params, timeout=10) as response:\n",
    "            response.raise_for_status()\n",
    "            data = await response.json()\n",
    "            # The API returns a dictionary with the contract address as the key.\n",
    "            return data.get(contract_address.lower(), {})\n",
    "            \n",
    "    except Exception as e:\n",
    "        print(f\"Error getting token price for {contract_address}: {e}\")\n",
    "        return {}\n",
    "\n",
    "async def get_portfolio_data_with_workaround(token_addresses: List[str]):\n",
    "    async with aiohttp.ClientSession() as session:\n",
    "        # Create a task for each token\n",
    "        tasks = [get_single_token_price(addr, session) for addr in token_addresses]\n",
    "        \n",
    "        # Run all tasks concurrently and get the results\n",
    "        results = await asyncio.gather(*tasks)\n",
    "        \n",
    "        # Combine the results into a single dictionary\n",
    "        combined_prices = {}\n",
    "        for i, addr in enumerate(token_addresses):\n",
    "            combined_prices[addr.lower()] = results[i]\n",
    "            \n",
    "        return combined_prices"
   ]
  },
  {
   "cell_type": "code",
   "execution_count": 127,
   "id": "1392a76c",
   "metadata": {},
   "outputs": [
    {
     "name": "stdout",
     "output_type": "stream",
     "text": [
      "Error getting token price for 0x6982508145454ce325ddbe47a25d4ec3d2311933: Cannot connect to host api.coingecko.com:443 ssl:default [getaddrinfo failed]\n",
      "Error getting token price for 0x6b175474e89094c44da98b954eedeac495271d0f: Cannot connect to host api.coingecko.com:443 ssl:default [getaddrinfo failed]\n",
      "{'0x6b175474e89094c44da98b954eedeac495271d0f': {}, '0x6982508145454ce325ddbe47a25d4ec3d2311933': {}}\n"
     ]
    }
   ],
   "source": [
    "async with aiohttp.ClientSession() as session:\n",
    "    token_addresses = [\n",
    "        \"0x6b175474e89094c44da98b954eedeac495271d0f\",  # DAI\n",
    "        \"0x6982508145454ce325ddbe47a25d4ec3d2311933\"   # PEPE\n",
    "    ]\n",
    "    prices = await get_portfolio_data_with_workaround(token_addresses)\n",
    "    print(prices)"
   ]
  },
  {
   "cell_type": "markdown",
   "id": "35ae8505",
   "metadata": {},
   "source": [
    "### Get list of tokens held"
   ]
  },
  {
   "cell_type": "code",
   "execution_count": 128,
   "id": "c9ce8c9b",
   "metadata": {},
   "outputs": [],
   "source": [
    "async def get_held_tokens_alchemy(wallet_address: str, session: aiohttp.ClientSession) -> List[Dict]:\n",
    "    \"\"\"\n",
    "    Fetches all ERC-20 tokens held by a wallet using the Alchemy API.\n",
    "    \n",
    "    Args:\n",
    "        wallet_address (str): The Ethereum wallet address.\n",
    "        session (aiohttp.ClientSession): The async session object.\n",
    "\n",
    "    Returns:\n",
    "        List[Dict]: A list of dictionaries, where each dict represents a token with\n",
    "                    its contract address.\n",
    "    \"\"\"\n",
    "    # Replace with your actual Alchemy API URL\n",
    "    ALCHEMY_API_URL = WEB3_PROVIDER_URL\n",
    "    headers = {\"accept\": \"application/json\", \"content-type\": \"application/json\"}\n",
    "    \n",
    "    payload = {\n",
    "        \"id\": 1,\n",
    "        \"jsonrpc\": \"2.0\",\n",
    "        \"method\": \"alchemy_getTokenBalances\",\n",
    "        \"params\": [\n",
    "            wallet_address,\n",
    "            \"erc20\"\n",
    "        ]\n",
    "    }\n",
    "    \n",
    "    try:\n",
    "        async with session.post(ALCHEMY_API_URL, headers=headers, json=payload, timeout=20) as response:\n",
    "            response.raise_for_status()\n",
    "            data = await response.json()\n",
    "            \n",
    "            held_tokens = []\n",
    "            if \"result\" in data and \"tokenBalances\" in data[\"result\"]:\n",
    "                for token_info in data[\"result\"][\"tokenBalances\"]:\n",
    "                    # Alchemy's API returns tokens with a zero balance too; we filter them.\n",
    "                    # The balance is in hexadecimal format, so we check for \"0x0\".\n",
    "                    if token_info[\"tokenBalance\"] != \"0x0\":\n",
    "                        # The contract address is correctly extracted here\n",
    "                        held_tokens.append({\"address\": token_info[\"contractAddress\"]})\n",
    "\n",
    "            return held_tokens\n",
    "    \n",
    "    except Exception as e:\n",
    "        print(f\"Error getting held tokens from Alchemy: {e}\")\n",
    "        return []"
   ]
  },
  {
   "cell_type": "code",
   "execution_count": 129,
   "id": "d1cafa44",
   "metadata": {},
   "outputs": [
    {
     "name": "stdout",
     "output_type": "stream",
     "text": [
      "Error getting held tokens from Alchemy: Cannot connect to host eth-mainnet.g.alchemy.com:443 ssl:default [getaddrinfo failed]\n",
      "[]\n"
     ]
    }
   ],
   "source": [
    "async with aiohttp.ClientSession() as session:\n",
    "    tokensLists = await get_held_tokens_alchemy(\"0x742d35Cc6634C0532925a3b844Bc454e4438f44e\", session)\n",
    "    print(tokensLists)\n",
    "    \n"
   ]
  },
  {
   "cell_type": "code",
   "execution_count": 130,
   "id": "da886254",
   "metadata": {},
   "outputs": [
    {
     "name": "stdout",
     "output_type": "stream",
     "text": [
      "Error getting held tokens from Alchemy: Cannot connect to host eth-mainnet.g.alchemy.com:443 ssl:default [getaddrinfo failed]\n"
     ]
    },
    {
     "data": {
      "text/html": [
       "<div>\n",
       "<style scoped>\n",
       "    .dataframe tbody tr th:only-of-type {\n",
       "        vertical-align: middle;\n",
       "    }\n",
       "\n",
       "    .dataframe tbody tr th {\n",
       "        vertical-align: top;\n",
       "    }\n",
       "\n",
       "    .dataframe thead th {\n",
       "        text-align: right;\n",
       "    }\n",
       "</style>\n",
       "<table border=\"1\" class=\"dataframe\">\n",
       "  <thead>\n",
       "    <tr style=\"text-align: right;\">\n",
       "      <th></th>\n",
       "    </tr>\n",
       "  </thead>\n",
       "  <tbody>\n",
       "  </tbody>\n",
       "</table>\n",
       "</div>"
      ],
      "text/plain": [
       "Empty DataFrame\n",
       "Columns: []\n",
       "Index: []"
      ]
     },
     "execution_count": 130,
     "metadata": {},
     "output_type": "execute_result"
    }
   ],
   "source": [
    "async with aiohttp.ClientSession() as session:\n",
    "    held_tokens_list = await get_held_tokens_alchemy(wallet_address, session)\n",
    "df_held_tokens_list = pd.DataFrame(tokensLists)\n",
    "\n",
    "df_held_tokens_list.head()  # Display the first few rows of the DataFrame"
   ]
  },
  {
   "cell_type": "code",
   "execution_count": 131,
   "id": "ad66bbbc",
   "metadata": {},
   "outputs": [
    {
     "data": {
      "text/html": [
       "<div>\n",
       "<style scoped>\n",
       "    .dataframe tbody tr th:only-of-type {\n",
       "        vertical-align: middle;\n",
       "    }\n",
       "\n",
       "    .dataframe tbody tr th {\n",
       "        vertical-align: top;\n",
       "    }\n",
       "\n",
       "    .dataframe thead th {\n",
       "        text-align: right;\n",
       "    }\n",
       "</style>\n",
       "<table border=\"1\" class=\"dataframe\">\n",
       "  <thead>\n",
       "    <tr style=\"text-align: right;\">\n",
       "      <th></th>\n",
       "    </tr>\n",
       "  </thead>\n",
       "  <tbody>\n",
       "  </tbody>\n",
       "</table>\n",
       "</div>"
      ],
      "text/plain": [
       "Empty DataFrame\n",
       "Columns: []\n",
       "Index: []"
      ]
     },
     "execution_count": 131,
     "metadata": {},
     "output_type": "execute_result"
    }
   ],
   "source": [
    "df = pd.DataFrame(tokensLists)\n",
    "df.head()  # Display the first few rows of the DataFrame"
   ]
  },
  {
   "cell_type": "markdown",
   "id": "8c4e20a5",
   "metadata": {},
   "source": [
    "### Get wallet portifolio data"
   ]
  },
  {
   "cell_type": "code",
   "execution_count": 132,
   "id": "311480fc",
   "metadata": {},
   "outputs": [],
   "source": [
    "async def get_portfolio_data(wallet_address: str) -> Dict:\n",
    "    async with aiohttp.ClientSession() as session:\n",
    "        # Step 1: Get ETH balance, ETH price, and held tokens concurrently\n",
    "        eth_balance_task = asyncio.to_thread(get_eth_balance, wallet_address, w3)\n",
    "        eth_price_task = asyncio.create_task(get_eth_price(session))\n",
    "        held_tokens_task = asyncio.create_task(get_held_tokens_alchemy(wallet_address, session))\n",
    "\n",
    "        eth_balance, eth_price_data, held_tokens_list = await asyncio.gather(\n",
    "            eth_balance_task, eth_price_task, held_tokens_task\n",
    "        )\n",
    "        \n",
    "        portfolio = {\n",
    "            \"wallet_address\": wallet_address,\n",
    "            \"eth_balance\": eth_balance,\n",
    "            \"eth_price\": eth_price_data[\"price\"],\n",
    "            \"eth_value\": eth_balance * eth_price_data[\"price\"],\n",
    "            \"tokens\": [],\n",
    "            \"total_value\": eth_balance * eth_price_data[\"price\"],\n",
    "        }\n",
    "        \n",
    "        if held_tokens_list:\n",
    "            token_addresses = [token[\"address\"] for token in held_tokens_list]\n",
    "            \n",
    "            # Step 2: Get all token prices concurrently\n",
    "            token_prices_task = asyncio.create_task(get_multiple_token_prices(token_addresses, session))\n",
    "            token_prices = await token_prices_task\n",
    "            \n",
    "            # Step 3: Get all token balances concurrently\n",
    "            token_balance_tasks = [\n",
    "                asyncio.to_thread(get_token_balance_dynamic, wallet_address, addr, w3)\n",
    "                for addr in token_addresses\n",
    "            ]\n",
    "            token_balances = await asyncio.gather(*token_balance_tasks)\n",
    "            \n",
    "            for token_info in token_balances:\n",
    "                if token_info[\"balance\"] > 0:\n",
    "                    addr = token_info[\"address\"].lower()\n",
    "                    price_data = token_prices.get(addr, {})\n",
    "                    token_info[\"price\"] = price_data.get(\"usd\", 0)\n",
    "                    token_info[\"value\"] = token_info[\"balance\"] * token_info[\"price\"]\n",
    "                    portfolio[\"tokens\"].append(token_info)\n",
    "                    portfolio[\"total_value\"] += token_info[\"value\"]\n",
    "\n",
    "        return portfolio"
   ]
  },
  {
   "cell_type": "code",
   "execution_count": 135,
   "id": "ee58891e",
   "metadata": {},
   "outputs": [],
   "source": [
    "async def main():\n",
    "    wallet_address_to_track = \"0xd40E9C8cE75615C91e6D3c56f9A16C65A6BD3b35\" # A test wallet\n",
    "        \n",
    "    portfolio = await get_portfolio_data(wallet_address_to_track)\n",
    "    \n",
    "    print(f\"--- Portfolio Data for {portfolio['wallet_address']} ---\")\n",
    "    print(f\"ETH Balance: {portfolio['eth_balance']:.4f} ETH\")\n",
    "    print(f\"Total Portfolio Value: ${portfolio['total_value']:.2f}\")\n",
    "    print(\"\\nTokens:\")\n",
    "    for token in portfolio['tokens']:\n",
    "        print(f\"  - {token['symbol']}: {token['balance']:.4f} (${token['value']:.2f})\")\n",
    "    print(\"---------------------------------\")"
   ]
  },
  {
   "cell_type": "code",
   "execution_count": 136,
   "id": "3aedb1c5",
   "metadata": {},
   "outputs": [
    {
     "name": "stdout",
     "output_type": "stream",
     "text": [
      "Error getting token price for 0x95ad61b0a150d79219dcf64e1e6cc01f0b64c4ce: 429, message='Too Many Requests', url='https://api.coingecko.com/api/v3/simple/token_price/ethereum?contract_addresses=0x95ad61b0a150d79219dcf64e1e6cc01f0b64c4ce&vs_currencies=usd&include_24hr_change=true'\n",
      "Error getting token price for 0xdac17f958d2ee523a2206206994597c13d831ec7: 429, message='Too Many Requests', url='https://api.coingecko.com/api/v3/simple/token_price/ethereum?contract_addresses=0xdac17f958d2ee523a2206206994597c13d831ec7&vs_currencies=usd&include_24hr_change=true'\n",
      "Error getting token price for 0x514910771af9ca656af840dff83e8264ecf986ca: 429, message='Too Many Requests', url='https://api.coingecko.com/api/v3/simple/token_price/ethereum?contract_addresses=0x514910771af9ca656af840dff83e8264ecf986ca&vs_currencies=usd&include_24hr_change=true'\n",
      "--- Portfolio Data for 0xd40E9C8cE75615C91e6D3c56f9A16C65A6BD3b35 ---\n",
      "ETH Balance: 5.8667 ETH\n",
      "Total Portfolio Value: $24580.07\n",
      "\n",
      "Tokens:\n",
      "  - MNT: 898.7068 ($0.00)\n",
      "  - LINK: 28.0577 ($0.00)\n",
      "  - HQG: 0.1689 ($0.00)\n",
      "  - DAI: 3031.1059 ($0.00)\n",
      "  - SHIB: 90327366.0000 ($0.00)\n",
      "  - USDC: 7485.9122 ($0.00)\n",
      "  - YFIVE: 0.0001 ($0.00)\n",
      "  - USDT: 5655.6593 ($0.00)\n",
      "  - VRA: 2876360.0000 ($0.00)\n",
      "---------------------------------\n"
     ]
    }
   ],
   "source": [
    "# asyncio.run(main())\n",
    "\n",
    "await main()"
   ]
  }
 ],
 "metadata": {
  "kernelspec": {
   "display_name": "crypto-portifolio-tracker",
   "language": "python",
   "name": "python3"
  },
  "language_info": {
   "codemirror_mode": {
    "name": "ipython",
    "version": 3
   },
   "file_extension": ".py",
   "mimetype": "text/x-python",
   "name": "python",
   "nbconvert_exporter": "python",
   "pygments_lexer": "ipython3",
   "version": "3.10.7"
  }
 },
 "nbformat": 4,
 "nbformat_minor": 5
}
